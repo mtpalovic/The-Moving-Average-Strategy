{
 "cells": [
  {
   "cell_type": "code",
   "execution_count": null,
   "metadata": {
    "ExecuteTime": {
     "end_time": "2021-08-10T04:02:16.060925Z",
     "start_time": "2021-08-10T04:02:14.216470Z"
    }
   },
   "outputs": [],
   "source": [
    "import numpy as np\n",
    "import pandas as pd\n",
    "import pandas_ta as ta\n",
    "import matplotlib.pyplot as plt\n",
    "plt.style.use(\"ggplot\")\n",
    "# plt.style.available[:] gives list of all available stylesheets\n",
    "%matplotlib inline\n",
    "import seaborn as sns\n",
    "import datetime as dt\n",
    "import pandas_datareader.data as web\n",
    "\n",
    "import yfinance as yf\n",
    "# yfinance is a popular open source library developed by Ran Aroussi \n",
    "# as a means to access the financial data available on Yahoo Finance\n",
    "\n",
    "from sklearn import metrics\n",
    "\n",
    "from sklearn.preprocessing import MinMaxScaler\n",
    "from sklearn.model_selection import train_test_split\n",
    "\n",
    "from sklearn.linear_model import LinearRegression\n",
    "\n",
    "# rc refers to run commands\n",
    "plt.rcParams[\"font.size\"] = 11\n",
    "plt.rcParams[\"figure.facecolor\"] = \"#000080\"\n",
    "sns.set_style(\"darkgrid\")"
   ]
  },
  {
   "cell_type": "markdown",
   "metadata": {},
   "source": [
    "Load data, you may also use yfinance.download data"
   ]
  },
  {
   "cell_type": "code",
   "execution_count": null,
   "metadata": {
    "ExecuteTime": {
     "end_time": "2021-08-10T04:05:02.262427Z",
     "start_time": "2021-08-10T04:05:01.775182Z"
    }
   },
   "outputs": [],
   "source": [
    "end = dt.datetime.today()\n",
    "start = dt.datetime(end.year-1, end.month, end.day)\n",
    "data = yf.download(\"JPM GS MS BLK\", start=start, end=end, group_by=\"column\")\n",
    "data"
   ]
  },
  {
   "cell_type": "code",
   "execution_count": null,
   "metadata": {
    "ExecuteTime": {
     "end_time": "2021-08-10T03:44:00.364554Z",
     "start_time": "2021-08-10T03:44:00.355933Z"
    }
   },
   "outputs": [],
   "source": []
  },
  {
   "cell_type": "code",
   "execution_count": null,
   "metadata": {
    "ExecuteTime": {
     "end_time": "2021-08-06T05:04:19.722073Z",
     "start_time": "2021-08-06T05:04:17.391327Z"
    }
   },
   "outputs": [],
   "source": [
    "plt.figure(figsize=(30,20))\n",
    "\n",
    "# in python it starts at one \n",
    "for i, stock in enumerate(stock_list, 1):\n",
    "    plt.subplot(5,2,i)\n",
    "    stock[\"Adj Close\"].plot()\n",
    "    plt.ylabel(\"Adj Close\")\n",
    "    plt.xlabel(None)\n",
    "    plt.title(f\"Closing price of {stock_name_list[i-1]}\")\n",
    "plt.tight_layout()"
   ]
  },
  {
   "cell_type": "code",
   "execution_count": null,
   "metadata": {
    "ExecuteTime": {
     "end_time": "2021-08-06T05:04:19.751285Z",
     "start_time": "2021-08-06T05:04:19.723474Z"
    }
   },
   "outputs": [],
   "source": [
    "ma_list = [10,20,50]\n",
    "for ma in ma_list:\n",
    "    for stock in stock_list:\n",
    "        MA = f\"MA for {ma} days\"\n",
    "        stock[MA] = stock[\"Adj Close\"].rolling(ma).mean()"
   ]
  },
  {
   "cell_type": "code",
   "execution_count": null,
   "metadata": {
    "ExecuteTime": {
     "end_time": "2021-08-06T05:04:19.996956Z",
     "start_time": "2021-08-06T05:04:19.753276Z"
    }
   },
   "outputs": [],
   "source": [
    "with plt.style.context(\"seaborn-white\"):\n",
    "    ms[[\"Adj Close\", \"MA for 10 days\"]].plot()"
   ]
  },
  {
   "cell_type": "code",
   "execution_count": null,
   "metadata": {
    "ExecuteTime": {
     "end_time": "2021-08-06T05:11:45.981096Z",
     "start_time": "2021-08-06T05:11:45.795086Z"
    }
   },
   "outputs": [],
   "source": [
    "apple = yf.Ticker(\"aapl\")\n",
    "apple_history = apple.history(start=start, end=end)\n",
    "apple_history"
   ]
  },
  {
   "cell_type": "code",
   "execution_count": null,
   "metadata": {
    "ExecuteTime": {
     "end_time": "2021-08-10T03:25:56.786826Z",
     "start_time": "2021-08-10T03:25:56.784993Z"
    }
   },
   "outputs": [],
   "source": [
    "# train test split\n",
    "# X = df.drop()\n",
    "# y = df[]\n",
    "# X_train, X_test, y_train, y_test = train_test_split(X, y, test_size=0.33, random_state=42)"
   ]
  },
  {
   "cell_type": "code",
   "execution_count": null,
   "metadata": {},
   "outputs": [],
   "source": [
    "# MinMaxScaler\n",
    "# scaler = MinMaxScaler(feature_range=(0,1)\n",
    "# df = scaler.fit_transform(df)"
   ]
  },
  {
   "cell_type": "code",
   "execution_count": null,
   "metadata": {},
   "outputs": [],
   "source": [
    "# linear regression\n",
    "# reg = LinearRegression().fit(X_train, y_train)\n",
    "# print(reg.intercept_, reg.coef_)"
   ]
  },
  {
   "cell_type": "code",
   "execution_count": null,
   "metadata": {
    "ExecuteTime": {
     "end_time": "2021-08-10T04:05:17.938956Z",
     "start_time": "2021-08-10T04:05:17.935252Z"
    }
   },
   "outputs": [],
   "source": []
  }
 ],
 "metadata": {
  "kernelspec": {
   "display_name": "Python 3",
   "language": "python",
   "name": "python3"
  },
  "language_info": {
   "codemirror_mode": {
    "name": "ipython",
    "version": 3
   },
   "file_extension": ".py",
   "mimetype": "text/x-python",
   "name": "python",
   "nbconvert_exporter": "python",
   "pygments_lexer": "ipython3",
   "version": "3.8.5"
  },
  "toc": {
   "base_numbering": 1,
   "nav_menu": {},
   "number_sections": true,
   "sideBar": true,
   "skip_h1_title": false,
   "title_cell": "Table of Contents",
   "title_sidebar": "Contents",
   "toc_cell": false,
   "toc_position": {},
   "toc_section_display": true,
   "toc_window_display": false
  }
 },
 "nbformat": 4,
 "nbformat_minor": 4
}
