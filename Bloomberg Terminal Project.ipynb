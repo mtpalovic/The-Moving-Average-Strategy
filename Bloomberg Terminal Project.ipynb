{
 "cells": [
  {
   "cell_type": "markdown",
   "metadata": {},
   "source": [
    "1. linear regression\n",
    "2. logistic regression\n",
    "3. support vector machine\n",
    "4. random forest\n",
    "5. naive bayes\n",
    "6. OTHER"
   ]
  },
  {
   "cell_type": "code",
   "execution_count": null,
   "metadata": {
    "ExecuteTime": {
     "end_time": "2021-08-10T04:14:28.829304Z",
     "start_time": "2021-08-10T04:14:28.821371Z"
    },
    "code_folding": []
   },
   "outputs": [],
   "source": [
    "# install the dependencies\n",
    "import numpy as np\n",
    "import pandas as pd\n",
    "# pandas technical analysis\n",
    "import pandas_ta as ta\n",
    "import pandas_datareader.data as web\n",
    "import matplotlib.pyplot as plt\n",
    "plt.style.use(\"bmh\")\n",
    "# plt.style.available[:] gives list of all available stylesheets\n",
    "%matplotlib inline\n",
    "import seaborn as sns\n",
    "import datetime as dt\n",
    "\n",
    "import yfinance as yf\n",
    "# yfinance is a popular open source library developed by Ran Aroussi \n",
    "# as a means to access the financial data available on Yahoo Finance\n",
    "\n",
    "from sklearn import metrics\n",
    "from sklearn.tree import DecisionTreeRegressor\n",
    "from sklearn.preprocessing import MinMaxScaler\n",
    "from sklearn.model_selection import train_test_split\n",
    "from sklearn.linear_model import LinearRegression\n",
    "\n",
    "# rc refers to run commands\n",
    "plt.rcParams[\"font.size\"] = 11\n",
    "plt.rcParams[\"figure.facecolor\"] = \"#000080\"\n",
    "sns.set_style(\"darkgrid\")"
   ]
  },
  {
   "cell_type": "code",
   "execution_count": null,
   "metadata": {
    "ExecuteTime": {
     "end_time": "2021-08-10T04:56:53.951903Z",
     "start_time": "2021-08-10T04:56:53.104497Z"
    }
   },
   "outputs": [],
   "source": [
    "# load and check the data \n",
    "end = dt.datetime.today()\n",
    "start = dt.datetime(end.year-1, end.month, end.day)\n",
    "\n",
    "jpm = web.DataReader(\"JPM\", \"yahoo\", start, end)\n",
    "df = pd.DataFrame(jpm)\n",
    "df.isnull().sum()"
   ]
  },
  {
   "cell_type": "code",
   "execution_count": null,
   "metadata": {
    "ExecuteTime": {
     "end_time": "2021-08-10T05:03:34.071734Z",
     "start_time": "2021-08-10T05:03:34.068178Z"
    }
   },
   "outputs": [],
   "source": [
    "df.columns\n",
    "# grab everything except the dependent variable\n",
    "X = df[[\"High\", \"Low\", \"Open\", \"Close\", \"Volume\"]]\n",
    "y = df[\"Adj Close\"]"
   ]
  },
  {
   "cell_type": "code",
   "execution_count": null,
   "metadata": {
    "ExecuteTime": {
     "end_time": "2021-08-10T05:03:34.462908Z",
     "start_time": "2021-08-10T05:03:34.458985Z"
    }
   },
   "outputs": [],
   "source": [
    "X_train, X_test, y_train, y_test = train_test_split(X, \n",
    "                                                    y, \n",
    "                                                    test_size=0.3, \n",
    "                                                    random_state=42\n",
    "                                                   )"
   ]
  },
  {
   "cell_type": "code",
   "execution_count": null,
   "metadata": {
    "ExecuteTime": {
     "end_time": "2021-08-10T05:03:35.350587Z",
     "start_time": "2021-08-10T05:03:35.348561Z"
    }
   },
   "outputs": [],
   "source": [
    "# MinMaxScaler\n",
    "# scaler = MinMaxScaler(feature_range=(0,1)\n",
    "# df = scaler.fit_transform(df)"
   ]
  },
  {
   "cell_type": "code",
   "execution_count": null,
   "metadata": {
    "ExecuteTime": {
     "end_time": "2021-08-10T05:03:36.408942Z",
     "start_time": "2021-08-10T05:03:36.395033Z"
    }
   },
   "outputs": [],
   "source": [
    "lm = LinearRegression().fit(X_train, y_train)\n",
    "lm.intercept_, lm.coef_"
   ]
  },
  {
   "cell_type": "code",
   "execution_count": null,
   "metadata": {
    "ExecuteTime": {
     "end_time": "2021-08-10T05:08:43.024927Z",
     "start_time": "2021-08-10T05:08:43.018465Z"
    }
   },
   "outputs": [],
   "source": [
    "lmpd = pd.DataFrame(lm.coef_, X_train.columns, columns=[\"Coefficients\"])\n",
    "lmpd"
   ]
  }
 ],
 "metadata": {
  "kernelspec": {
   "display_name": "Python 3",
   "language": "python",
   "name": "python3"
  },
  "language_info": {
   "codemirror_mode": {
    "name": "ipython",
    "version": 3
   },
   "file_extension": ".py",
   "mimetype": "text/x-python",
   "name": "python",
   "nbconvert_exporter": "python",
   "pygments_lexer": "ipython3",
   "version": "3.8.5"
  },
  "toc": {
   "base_numbering": 1,
   "nav_menu": {},
   "number_sections": true,
   "sideBar": true,
   "skip_h1_title": false,
   "title_cell": "Table of Contents",
   "title_sidebar": "Contents",
   "toc_cell": false,
   "toc_position": {},
   "toc_section_display": true,
   "toc_window_display": false
  }
 },
 "nbformat": 4,
 "nbformat_minor": 4
}
