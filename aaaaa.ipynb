{
 "cells": [
  {
   "cell_type": "code",
   "execution_count": 7,
   "id": "a49cd10a",
   "metadata": {},
   "outputs": [],
   "source": [
    "import numpy as np\n",
    "from math import exp,log,pi,sin,cos\n",
    "\n",
    "import scipy\n",
    "from scipy.integrate import quad\n",
    "from scipy.integrate import odeint\n",
    "\n",
    "import sympy as smp\n",
    "\n",
    "#put on CV libraries like numpy, scipy, sympy"
   ]
  },
  {
   "cell_type": "markdown",
   "id": "003370d6",
   "metadata": {},
   "source": [
    "The probability that a continuous random variable takes a value in a given interval is equal to the integral of its probability density function over that interval."
   ]
  },
  {
   "cell_type": "markdown",
   "id": "af268377",
   "metadata": {},
   "source": [
    "$P(X \\in [a,b]) = \\int_{a}^{b} f_{x}(x) \\Delta x $"
   ]
  },
  {
   "cell_type": "markdown",
   "id": "4edbc5e6",
   "metadata": {},
   "source": [
    "where"
   ]
  },
  {
   "cell_type": "markdown",
   "id": "84b28d86",
   "metadata": {},
   "source": [
    "$f(x)=\\frac{1}{\\sigma \\sqrt{2 \\pi}} e^{-\\frac{1}{2} \\left(   \\frac{x-\\mu}{\\sigma}   \\right)        }$"
   ]
  },
  {
   "cell_type": "code",
   "execution_count": null,
   "id": "674e5a73",
   "metadata": {},
   "outputs": [],
   "source": []
  }
 ],
 "metadata": {
  "kernelspec": {
   "display_name": "Python 3 (ipykernel)",
   "language": "python",
   "name": "python3"
  },
  "language_info": {
   "codemirror_mode": {
    "name": "ipython",
    "version": 3
   },
   "file_extension": ".py",
   "mimetype": "text/x-python",
   "name": "python",
   "nbconvert_exporter": "python",
   "pygments_lexer": "ipython3",
   "version": "3.9.7"
  }
 },
 "nbformat": 4,
 "nbformat_minor": 5
}
