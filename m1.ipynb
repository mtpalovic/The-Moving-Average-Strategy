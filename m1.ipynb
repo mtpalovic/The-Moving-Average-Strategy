{
 "cells": [
  {
   "cell_type": "code",
   "execution_count": 7,
   "metadata": {
    "ExecuteTime": {
     "end_time": "2021-10-01T03:17:53.640964Z",
     "start_time": "2021-10-01T03:17:53.614403Z"
    }
   },
   "outputs": [],
   "source": [
    "import numpy as np\n",
    "\n",
    "import pandas as pd\n",
    "import pandas_ta as ta # pandas technical analysis\n",
    "import pandas_datareader.data as web\n",
    "pd.options.display.float_format = \"{:,.2f}\".format\n",
    "\n",
    "import matplotlib.pyplot as plt\n",
    "%matplotlib inline\n",
    "plt.style.use(\"seaborn-white\")\n",
    "plt.rcParams[\"font.size\"] = 11\n",
    "plt.rcParams[\"lines.linestyle\"] = \"-\"\n",
    "plt.rcParams[\"figure.dpi\"] = 1500\n",
    "plt.rcParams[\"figure.figsize\"] = (15,6)\n",
    "\n",
    "from datetime import datetime\n",
    "\n",
    "import plotly.graph_objs as go\n",
    "import plotly as py\n",
    "\n",
    "import yfinance as yf\n",
    "\n",
    "# momentum indicators\n",
    "from ta.momentum import RSIIndicator\n",
    "from ta.momentum import ROCIndicator\n",
    "from ta.momentum import StochasticOscillator\n",
    "from ta.momentum import WilliamsRIndicator\n",
    "\n",
    "# trend indicators\n",
    "from ta.trend import MACD\n",
    "from ta.trend import EMAIndicator\n",
    "from ta.trend import WMAIndicator\n",
    "from ta.trend import SMAIndicator\n",
    "\n",
    "# volatility indicators\n",
    "from ta.volatility import BollingerBands\n",
    "from ta.volatility import AverageTrueRange\n",
    "\n",
    "# volume indicators\n",
    "from ta.volume import money_flow_index\n",
    "from ta.volume import OnBalanceVolumeIndicator"
   ]
  },
  {
   "cell_type": "code",
   "execution_count": 8,
   "metadata": {
    "ExecuteTime": {
     "end_time": "2021-10-01T03:17:55.124089Z",
     "start_time": "2021-10-01T03:17:54.514279Z"
    }
   },
   "outputs": [],
   "source": [
    "# sklearn libraries\n",
    "from sklearn.preprocessing import MinMaxScaler\n",
    "\n",
    "from sklearn.utils import shuffle\n",
    "\n",
    "from sklearn.svm import SVR\n",
    "\n",
    "from sklearn.model_selection import (train_test_split,\n",
    "                                     cross_validate,\n",
    "                                     GridSearchCV\n",
    "                                    )\n",
    "\n",
    "from sklearn.metrics import (f1_score, \n",
    "                             accuracy_score, \n",
    "                             classification_report, \n",
    "                             confusion_matrix\n",
    "                            )\n",
    "\n",
    "# from sklearn import neural_network"
   ]
  },
  {
   "cell_type": "code",
   "execution_count": 9,
   "metadata": {
    "ExecuteTime": {
     "end_time": "2021-10-01T03:17:55.791700Z",
     "start_time": "2021-10-01T03:17:55.789659Z"
    }
   },
   "outputs": [],
   "source": [
    "import m as a    # import module, file/download as/python(.py)"
   ]
  },
  {
   "cell_type": "code",
   "execution_count": 10,
   "metadata": {
    "ExecuteTime": {
     "end_time": "2021-10-01T03:17:57.660583Z",
     "start_time": "2021-10-01T03:17:56.885113Z"
    }
   },
   "outputs": [],
   "source": [
    "end = datetime.today()\n",
    "start = datetime(end.year-2, end.month, end.day)\n",
    "ticker = web.DataReader(\"^GSPC\", \"yahoo\", start, end)"
   ]
  },
  {
   "cell_type": "code",
   "execution_count": 11,
   "metadata": {
    "ExecuteTime": {
     "end_time": "2021-10-01T03:17:58.954096Z",
     "start_time": "2021-10-01T03:17:58.833348Z"
    }
   },
   "outputs": [],
   "source": [
    "t = a.TechnicalIndicators(ticker[\"Close\"], ticker[\"High\"], ticker[\"Low\"], ticker[\"Volume\"])\n",
    "t.set_technical_indicators()\n",
    "\n",
    "if __name__ == \"__main__\":\n",
    "    t.rsi()\n",
    "    t.rate_change()\n",
    "    t.stochastic_oscillator()\n",
    "    t.WilliamsR()\n",
    "\n",
    "    t.macd()\n",
    "    t.ema()\n",
    "    t.wma()\n",
    "    t.moving_average()\n",
    "\n",
    "    t.bollinger_bands()\n",
    "    t.average_true_range()\n",
    "\n",
    "    t.on_balance_volume()\n",
    "    t.money_flow_index()"
   ]
  },
  {
   "cell_type": "code",
   "execution_count": null,
   "metadata": {
    "ExecuteTime": {
     "end_time": "2021-10-01T03:18:11.054341Z",
     "start_time": "2021-10-01T03:18:11.028755Z"
    }
   },
   "outputs": [],
   "source": []
  },
  {
   "cell_type": "code",
   "execution_count": null,
   "metadata": {
    "ExecuteTime": {
     "end_time": "2021-09-29T03:00:35.850874Z",
     "start_time": "2021-09-29T03:00:35.848080Z"
    }
   },
   "outputs": [],
   "source": [
    "class SupportVectorMachines():\n",
    "    \"\"\"\n",
    "    This is an example of the support vector machines class.\n",
    "    \"\"\"\n",
    "    def __init__(self, \n",
    "                 C = 1.0, \n",
    "                 kernel = \"rbf\", \n",
    "                 gamma = 1.0, \n",
    "                 max_iterations = 10000, \n",
    "                 random_state = None):\n",
    "        \n",
    "        self.C = C\n",
    "        self.kernel = kernel\n",
    "        self.gamma = gamma\n",
    "        self.max_iterations = max_iterations\n",
    "        self.random_state = random_state"
   ]
  },
  {
   "cell_type": "code",
   "execution_count": null,
   "metadata": {},
   "outputs": [],
   "source": []
  },
  {
   "cell_type": "code",
   "execution_count": null,
   "metadata": {},
   "outputs": [],
   "source": [
    "# Stock_df = pd.DataFrame()\n",
    "# Stock_df['DateTime'] = Page_Data['chart']['result'][0]['timestamp']"
   ]
  },
  {
   "cell_type": "code",
   "execution_count": null,
   "metadata": {},
   "outputs": [],
   "source": [
    "x_train, x_test, y_train, y_test = train_test_split(X, Y, train_size=0.9)\n",
    "\n",
    "x_train = np.array(x_train)\n",
    "y_train = np.array(y_train)\n",
    "x_test = np.array(x_test)\n",
    "y_test = np.array(y_test)\n",
    "\n",
    "param_grid = {'C': [ 1, 10, 100, 1000,10000], \n",
    "              'gamma': [1,0.1,0.01,0.001,0.0001],\n",
    "              'kernel': ['rbf']}\n",
    "\n",
    "def Split_Train_Test(data, test_ratio):\n",
    "    train_set_size = 1 - int(len(data) * test_ratio)\n",
    "    train_set = data[:train_set_size]\n",
    "    test_set = data[train_set_size:]\n",
    "    return train_set, test_set\n",
    "\n",
    "scaler = MinMaxScaler(feature_range=(0, 1))\n",
    "X = scaler.fit_transform(X)"
   ]
  }
 ],
 "metadata": {
  "kernelspec": {
   "display_name": "Python 3",
   "language": "python",
   "name": "python3"
  },
  "language_info": {
   "codemirror_mode": {
    "name": "ipython",
    "version": 3
   },
   "file_extension": ".py",
   "mimetype": "text/x-python",
   "name": "python",
   "nbconvert_exporter": "python",
   "pygments_lexer": "ipython3",
   "version": "3.8.5"
  },
  "toc": {
   "base_numbering": 1,
   "nav_menu": {},
   "number_sections": true,
   "sideBar": true,
   "skip_h1_title": false,
   "title_cell": "Table of Contents",
   "title_sidebar": "Contents",
   "toc_cell": false,
   "toc_position": {},
   "toc_section_display": true,
   "toc_window_display": false
  },
  "varInspector": {
   "cols": {
    "lenName": 16,
    "lenType": 16,
    "lenVar": 40
   },
   "kernels_config": {
    "python": {
     "delete_cmd_postfix": "",
     "delete_cmd_prefix": "del ",
     "library": "var_list.py",
     "varRefreshCmd": "print(var_dic_list())"
    },
    "r": {
     "delete_cmd_postfix": ") ",
     "delete_cmd_prefix": "rm(",
     "library": "var_list.r",
     "varRefreshCmd": "cat(var_dic_list()) "
    }
   },
   "types_to_exclude": [
    "module",
    "function",
    "builtin_function_or_method",
    "instance",
    "_Feature"
   ],
   "window_display": false
  }
 },
 "nbformat": 4,
 "nbformat_minor": 4
}
