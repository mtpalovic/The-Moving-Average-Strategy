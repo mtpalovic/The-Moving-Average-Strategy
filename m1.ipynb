{
 "cells": [
  {
   "cell_type": "code",
   "execution_count": 2,
   "metadata": {
    "ExecuteTime": {
     "end_time": "2021-10-12T05:37:58.864553Z",
     "start_time": "2021-10-12T05:37:58.855341Z"
    }
   },
   "outputs": [],
   "source": [
    "from sklearn.base import BaseEstimator, TransformerMixin\n",
    "\n",
    "import m as a\n",
    "\n",
    "from datetime import datetime\n",
    "import pandas_datareader as web\n",
    "import pandas as pd\n",
    "\n",
    "# sklearn libraries\n",
    "from sklearn.preprocessing import MinMaxScaler\n",
    "\n",
    "from sklearn.utils import shuffle\n",
    "\n",
    "from sklearn.svm import SVR\n",
    "\n",
    "from sklearn.model_selection import (train_test_split,\n",
    "                                     cross_validate,\n",
    "                                     GridSearchCV\n",
    "                                    )\n",
    "\n",
    "from sklearn.metrics import (r2_score, \n",
    "                             mean_squared_error\n",
    "                            )"
   ]
  },
  {
   "cell_type": "code",
   "execution_count": 8,
   "metadata": {
    "ExecuteTime": {
     "end_time": "2021-10-12T05:40:16.481657Z",
     "start_time": "2021-10-12T05:40:16.467924Z"
    }
   },
   "outputs": [],
   "source": [
    "class SupportVectorRegression():\n",
    "    \"\"\"\n",
    "    This is an example of the support vector machine regression class.\n",
    "    \"\"\"\n",
    "    \n",
    "    ticker = \"ES=F\"\n",
    "    test_size = 0.3\n",
    "    random_state = 42\n",
    "    \n",
    "    def __init__(self, \n",
    "                 kernel:str = None,\n",
    "                 degree:int = 3,\n",
    "                 gamma:float = 1.0,\n",
    "                 coef0:float = 0.0,\n",
    "                 C:float = 1.0,\n",
    "                 epsilon:float = 0.1,\n",
    "                 verbose:bool = False,\n",
    "                 max_iter:int = -1\n",
    "                ):\n",
    "\n",
    "        if (kernel is None): # set rbf to default\n",
    "            self.kernel = \"rbf\" \n",
    "        else:\n",
    "            self.kernel = kernel\n",
    "\n",
    "        self.degree = degree\n",
    "        self.gamma = gamma\n",
    "        self.coef0 = coef0\n",
    "        self.C = C\n",
    "        self.epsilon = epsilon\n",
    "        self.verbose = verbose\n",
    "        self.max_iter = max_iter\n",
    "\n",
    "        # model parameters set to None (I have to come up with them later)\n",
    "        self.X = None\n",
    "        self.y = None\n",
    "        self.coef_ = None\n",
    "        self.intercept_ = None\n",
    "\n",
    "    def download_data(self):\n",
    "        \"\"\"\n",
    "        The below function download the data into the class.\n",
    "        \"\"\"\n",
    "        end = datetime.today()\n",
    "        start = datetime(end.year-2, end.month, end.day)\n",
    "        ticker = web.DataReader(SupportVectorRegression.ticker, \"yahoo\", start, end) #snp500 futures\n",
    "        \n",
    "        t = a.TechnicalIndicators(ticker[\"Close\"], ticker[\"High\"], ticker[\"Low\"], ticker[\"Volume\"])\n",
    "        df = pd.DataFrame(t)\n",
    "        \n",
    "        return self.df\n",
    "\n",
    "    \n",
    "    \n",
    "    def create_Xy(self, X:float, y:float):\n",
    "        \"\"\"\n",
    "        The below function sets the dependent and independent variables.\n",
    "        \"\"\"\n",
    "        \n",
    "        X = np.array(\n",
    "            t.bollinger_bands()[\n",
    "                [\"Bollinger Bands Lower\", \"Bollinger Bands Middle\", \"Bollinger Bands Upper\"]\n",
    "                                ]).reshape(-1,3)\n",
    "        \n",
    "        y = np.array(ticker[\"Close\"]).reshape(len(ticker[\"Close\"]),1) # or -1   \n",
    "\n",
    "\n",
    "    def feature_scaling(self):\n",
    "        \"\"\"\n",
    "        The following function scales the data. Step 2: Data pre-processing. \n",
    "        \"\"\"\n",
    "        scaler = MinMaxScaler(feature_range=(0, 1))\n",
    "        \n",
    "        X_train = scaler.fit_transform(X_train)\n",
    "        y_train = scaler.fit_transform(y_train)\n",
    "        \n",
    "        \n",
    "    def train_test_split(self, X:np.ndarray, y:np.ndarray):    \n",
    "        \"\"\"\n",
    "        The following function splits the data into train and test set. Step 3: feature engineering. \n",
    "        \"\"\"\n",
    "        X = X.values.reshape(-1,1) # -1 unknown dimension and we want numpy to figure it out, 1 column and numpy figures out the number of rows\n",
    "        y = y.values.reshape(-1,1)\n",
    "        \n",
    "        # reshape must be done before train test split so that X,y are passed in the format required (1 col and many rows)\n",
    "        X_train, X_test, y_train, y_test = train_test_split(X, \n",
    "                                                            y, \n",
    "                                                            test_size = SupportVectorRegression.test_size, \n",
    "                                                            random_state = SupportVectorRegression.random_state)\n",
    "        \n",
    "        return X_train, X_test, y_train, y_test\n",
    "    \n",
    "    \n",
    "    def fit(self, X_train:np.ndarray, y_train:np.ndarray):\n",
    "        \"\"\"\n",
    "        The following function fits the model over the training data. Step 4: fitting the model. \n",
    "        \"\"\"\n",
    "        X_train, y_train = train_test_split()\n",
    "        \n",
    "        y_ = np.where(y <= 0, -1,1)\n",
    "        n_samples, n_features = X.shape\n",
    "        \n",
    "        SupportVectorReg = SVR(kernel = self.kernel,\n",
    "                               degree = self.degree,\n",
    "                               gamma = self.gamma,\n",
    "                               coef0 = self.coef0,\n",
    "                               tol = 0.001,\n",
    "                               C = self.C,\n",
    "                               epsilon = self.epsilon,\n",
    "                               verbose = False,\n",
    "                               max_iter = -1 \n",
    "                              )\n",
    "        \n",
    "        SupportVectorReg.fit(X_train, y_train)\n",
    "\n",
    "    def predict(self, X_test:np.array):\n",
    "        y_pred = SupportVectorReg.predict(X_test)\n",
    "        return y_pred\n",
    "        \n",
    "    def evaluation(self):\n",
    "        \"\"\"\n",
    "        The following function evaluates how well the model performs on the test data. Step 6: model evaluation. \n",
    "        \"\"\"\n",
    "        mse = mean_squared_error(y_test, y_pred)\n",
    "        rmse = np.sqrt(mse)\n",
    "        return rmse"
   ]
  },
  {
   "cell_type": "code",
   "execution_count": null,
   "metadata": {},
   "outputs": [],
   "source": [
    "SVR()"
   ]
  },
  {
   "cell_type": "code",
   "execution_count": null,
   "metadata": {
    "ExecuteTime": {
     "end_time": "2021-10-08T04:30:05.830381Z",
     "start_time": "2021-10-08T04:30:04.945245Z"
    }
   },
   "outputs": [],
   "source": [
    "end = datetime.today()\n",
    "start = datetime(end.year-2, end.month, end.day)\n",
    "ticker = web.DataReader(\"ES=F\", \"yahoo\", start, end) #snp500 futures#     def varyC(self):\n",
    "\n",
    "t = a.TechnicalIndicators(ticker[\"Close\"], ticker[\"High\"], ticker[\"Low\"], ticker[\"Volume\"])\n",
    "\n",
    "t.set_technical_indicators()\n",
    "t.rsi()\n",
    "t.rate_change()\n",
    "t.stochastic_oscillator()\n",
    "t.WilliamsR()\n",
    "\n",
    "t.macd()\n",
    "t.ema()\n",
    "t.wma()\n",
    "t.moving_average()\n",
    "\n",
    "t.bollinger_bands()\n",
    "t.average_true_range()\n",
    "\n",
    "t.on_balance_volume()\n",
    "t.money_flow_index()"
   ]
  },
  {
   "cell_type": "code",
   "execution_count": null,
   "metadata": {
    "ExecuteTime": {
     "end_time": "2021-10-08T04:27:22.749359Z",
     "start_time": "2021-10-08T04:27:22.742125Z"
    }
   },
   "outputs": [],
   "source": []
  },
  {
   "cell_type": "code",
   "execution_count": null,
   "metadata": {
    "ExecuteTime": {
     "end_time": "2021-10-08T04:31:00.272617Z",
     "start_time": "2021-10-08T04:31:00.259799Z"
    }
   },
   "outputs": [],
   "source": []
  },
  {
   "cell_type": "code",
   "execution_count": null,
   "metadata": {
    "ExecuteTime": {
     "end_time": "2021-10-08T03:52:11.745128Z",
     "start_time": "2021-10-08T03:52:11.736475Z"
    }
   },
   "outputs": [],
   "source": []
  },
  {
   "cell_type": "code",
   "execution_count": null,
   "metadata": {
    "ExecuteTime": {
     "end_time": "2021-10-08T04:34:59.342497Z",
     "start_time": "2021-10-08T04:34:59.331701Z"
    }
   },
   "outputs": [],
   "source": [
    "np.array(ticker[\"Close\"]).reshape(len(ticker[\"Close\"]),1)"
   ]
  },
  {
   "cell_type": "code",
   "execution_count": null,
   "metadata": {},
   "outputs": [],
   "source": [
    "# print(\"C: {}\".format(fitted_svr_model.C))\n",
    "#     print(\"Epsilon: {}\".format(fitted_svr_model.epsilon))\n",
    "    \n",
    "#     sc_X = StandardScaler()\n",
    "# sc_y = StandardScaler()\n",
    "# X_train = sc_X.fit_transform(X_train)\n",
    "# y_train = sc_y.fit_transform(y_train)\n",
    "\n",
    "# X_test = sc_X.fit_transform(X_test)\n",
    "# y_test = sc_y.fit_transform(y_test)\n",
    "\n",
    "# np.dot\n",
    "\n",
    "# \"\"\"\n",
    "#         Parameters:\n",
    "#         - kernel:   string indicating kernel \"linear\", \"poly\", \"rbf\", default \"rbf\" see above\n",
    "#                     transforms train data so that data that cannot be linearly separated \n",
    "#                     are now linearly separated in a higher number of dimension spaces\n",
    "#         - degree:\n",
    "#         - gamma:\n",
    "#         - coef0:\n",
    "#         - C:\n",
    "#         - epsilon: The value defines a margin of tolerance where no penalty is given to errors. \n",
    "#                    The larger it is, the larger errors you admit in your solution.\n",
    "#         - verbose: output messages, useful for debugging or understading how the training performs\n",
    "#         - max_iter: -1 for no limit\n",
    "#         \"\"\"        \n",
    "\n",
    "#     def param_list(self):\n",
    "#         \"\"\"\n",
    "#         The following function returns the list of parameters and the respective values.\n",
    "#         \"\"\"\n",
    "#         return {\"C\": self.C, \n",
    "#                 \"kernel\": self.kernel, \n",
    "#                 \"gamma\": self.gamma}\n",
    "\n",
    "# if __name__ == \"__main__\":\n",
    "\n",
    "\n",
    "#     def param_grid(self):\n",
    "        \n",
    "#         param_grid = {'C': [ 1, 10, 100, 1000,10000], \n",
    "#               'gamma': [1,0.1,0.01,0.001,0.0001],\n",
    "#               'kernel': ['rbf']}\n",
    "        \n",
    "#         pass"
   ]
  }
 ],
 "metadata": {
  "kernelspec": {
   "display_name": "Python 3",
   "language": "python",
   "name": "python3"
  },
  "language_info": {
   "codemirror_mode": {
    "name": "ipython",
    "version": 3
   },
   "file_extension": ".py",
   "mimetype": "text/x-python",
   "name": "python",
   "nbconvert_exporter": "python",
   "pygments_lexer": "ipython3",
   "version": "3.8.5"
  },
  "toc": {
   "base_numbering": 1,
   "nav_menu": {},
   "number_sections": true,
   "sideBar": true,
   "skip_h1_title": false,
   "title_cell": "Table of Contents",
   "title_sidebar": "Contents",
   "toc_cell": false,
   "toc_position": {},
   "toc_section_display": true,
   "toc_window_display": false
  },
  "varInspector": {
   "cols": {
    "lenName": 16,
    "lenType": 16,
    "lenVar": 40
   },
   "kernels_config": {
    "python": {
     "delete_cmd_postfix": "",
     "delete_cmd_prefix": "del ",
     "library": "var_list.py",
     "varRefreshCmd": "print(var_dic_list())"
    },
    "r": {
     "delete_cmd_postfix": ") ",
     "delete_cmd_prefix": "rm(",
     "library": "var_list.r",
     "varRefreshCmd": "cat(var_dic_list()) "
    }
   },
   "types_to_exclude": [
    "module",
    "function",
    "builtin_function_or_method",
    "instance",
    "_Feature"
   ],
   "window_display": false
  }
 },
 "nbformat": 4,
 "nbformat_minor": 4
}
