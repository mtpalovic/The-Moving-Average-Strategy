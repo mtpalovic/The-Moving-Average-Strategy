{
 "cells": [
  {
   "cell_type": "code",
   "execution_count": null,
   "metadata": {
    "ExecuteTime": {
     "end_time": "2021-08-13T15:26:14.512883Z",
     "start_time": "2021-08-13T15:26:13.710883Z"
    },
    "code_folding": []
   },
   "outputs": [],
   "source": [
    "# install the dependencies\n",
    "import numpy as np\n",
    "import pandas as pd\n",
    "# pandas technical analysis\n",
    "import pandas_ta as ta\n",
    "import pandas_datareader.data as web\n",
    "import matplotlib.pyplot as plt\n",
    "plt.style.use(\"bmh\")\n",
    "# plt.style.available[:] gives list of all available stylesheets\n",
    "%matplotlib inline\n",
    "import seaborn as sns\n",
    "import datetime as dt\n",
    "\n",
    "import yfinance as yf\n",
    "# yfinance is a popular open source library developed by Ran Aroussi \n",
    "# as a means to access the financial data available on Yahoo Finance\n",
    "\n",
    "from sklearn.tree import DecisionTreeRegressor\n",
    "from sklearn.preprocessing import MinMaxScaler\n",
    "from sklearn.model_selection import train_test_split\n",
    "from sklearn.linear_model import LinearRegression\n",
    "\n",
    "# svm\n",
    "from sklearn.svm import SVR\n",
    "from sklearn.metrics import classification_report, confusion_matrix, r2_score, mean_squared_error\n",
    "from sklearn.grid_search import GridSearchCV\n",
    "\n",
    "# rc refers to run commands\n",
    "plt.rcParams[\"font.size\"] = 11\n",
    "plt.rcParams[\"figure.facecolor\"] = \"#000080\"\n",
    "sns.set_style(\"darkgrid\")"
   ]
  },
  {
   "cell_type": "code",
   "execution_count": null,
   "metadata": {
    "ExecuteTime": {
     "end_time": "2021-08-13T14:46:17.632263Z",
     "start_time": "2021-08-13T14:45:12.547339Z"
    }
   },
   "outputs": [],
   "source": [
    "end = dt.datetime.today()\n",
    "start = dt.datetime(end.year-1, end.month, end.day)\n",
    "\n",
    "jpm = web.DataReader(\"JPM\", \"yahoo\", start, end)\n",
    "ms = web.DataReader(\"MS\", \"yahoo\", start, end)\n",
    "gs = web.DataReader(\"GS\", \"yahoo\", start, end)\n",
    "bac = web.DataReader(\"BAC\", \"yahoo\", start, end)"
   ]
  },
  {
   "cell_type": "code",
   "execution_count": null,
   "metadata": {
    "ExecuteTime": {
     "end_time": "2021-08-13T14:47:21.362850Z",
     "start_time": "2021-08-13T14:47:21.343363Z"
    }
   },
   "outputs": [],
   "source": [
    "jpm"
   ]
  },
  {
   "cell_type": "code",
   "execution_count": null,
   "metadata": {
    "ExecuteTime": {
     "end_time": "2021-08-13T04:41:14.984696Z",
     "start_time": "2021-08-13T04:41:14.164316Z"
    }
   },
   "outputs": [],
   "source": [
    "l = [jpm, gs, ms, bac]\n",
    "l_s = [\"JPM\", \"GS\", \"MS\", \"BAC\"]\n",
    "plt.figure(figsize=(15,6))\n",
    "\n",
    "for i, j in enumerate(l, 1):\n",
    "    plt.subplot(2,2,i)\n",
    "    j[\"Adj Close\"].plot()\n",
    "    plt.xlabel(\"Date\")\n",
    "    plt.ylabel(\"Adj Close\")\n",
    "    plt.title(f\"Closing price of {l_s[i-1]}\")\n",
    "plt.tight_layout()"
   ]
  },
  {
   "cell_type": "code",
   "execution_count": null,
   "metadata": {
    "ExecuteTime": {
     "end_time": "2021-08-13T04:17:17.452065Z",
     "start_time": "2021-08-13T04:17:17.450202Z"
    }
   },
   "outputs": [],
   "source": [
    "# MinMaxScaler\n",
    "# scaler = MinMaxScaler(feature_range=(0,1)\n",
    "# df_scaled = scaler.fit_transform(df)\n",
    "# df_scaled"
   ]
  },
  {
   "cell_type": "code",
   "execution_count": null,
   "metadata": {
    "ExecuteTime": {
     "end_time": "2021-08-13T04:22:41.697217Z",
     "start_time": "2021-08-13T04:22:41.692883Z"
    }
   },
   "outputs": [],
   "source": [
    "# bollinger bands\n",
    "length = 30\n",
    "num_sd = 2\n",
    "def boll(closing, length, num_sd):\n",
    "    \"\"\"\n",
    "    returns average, upper band, lower band\n",
    "    \"\"\"\n",
    "    av = closing.rolling(window=length).mean()\n",
    "    sd = closing.rolling(window=length).std()\n",
    "    up = av + (num_sd*sd)\n",
    "    down = av - (num_sd*sd)\n",
    "    return np.round(av,4), np.round(up,4), np.round(down,4)"
   ]
  },
  {
   "cell_type": "code",
   "execution_count": null,
   "metadata": {
    "ExecuteTime": {
     "end_time": "2021-08-13T15:23:51.578456Z",
     "start_time": "2021-08-13T15:23:51.331450Z"
    }
   },
   "outputs": [],
   "source": [
    "# data pre-processing\n",
    "x = df[[\"High\", \"Low\", \"Open\", \"Close\", \"Volume\"]]\n",
    "y = df[\"Adj Close\"]\n",
    "\n",
    "X = df.x.values.reshape(-1,1)\n",
    "y = df.y.values.reshape(-1,1)\n",
    "\n",
    "X_train, X_test, y_train, y_test = train_test_split(X, y, test_size=0.2, random_state=42)\n",
    "\n",
    "# train the model\n",
    "SupportVectorRegModel = SVR()\n",
    "SupportVectorRegModel.fit(X_train, y_train)\n",
    "\n",
    "# prediction\n",
    "y_pred = SupportVectorRegModel.predict(x_test)\n",
    "y_pred\n",
    "\n",
    "# classification report and confusion matrix\n",
    "print(confusion_matrix(y_test, y_pred))\n",
    "print(\"\\n\")\n",
    "print(classification_report(y_test, y_pred))\n",
    "\n",
    "# gridsearchcv\n",
    "# \"c\" parameter controls the cost of misclassification on the training data\n",
    "# large \"c\" gives low bias (penalise the cost of misclassification a lot) and high variance\n",
    "# small \"c\" values does not penalise the cost of misclassification much (high bias/low variance)\n",
    "\n",
    "# small \"gamma\" means gaussian with large variance and small bias\n",
    "# large \"gamma\" means gaussian with small variance and high bias (support vector does not have a widespread influence)\n",
    "\n",
    "param_grid = {\"C\":[0.1,1,10,100,1000], \"gamma\":[1,0.1,0.01,0.001]}\n",
    "grid = GridSearchCV(SVR(), param_grid, refit=True, verbose=3)\n",
    "# verbose just shows how much of text output during calculation to display\n",
    "grid.fit(X_train, y_train)\n",
    "grid.best_params_\n",
    "grid.best_estimator\n",
    "\n",
    "# prediction with gridsearchcv (then classification report/confusion matrix)\n",
    "grid_pred = grid.predict(X_test)\n",
    "\n",
    "# model evaluation\n",
    "mse = mean_squared_error(y_test, y_pred)\n",
    "rmse = np.sqrt(sme)\n",
    "rmse"
   ]
  }
 ],
 "metadata": {
  "kernelspec": {
   "display_name": "Python 3",
   "language": "python",
   "name": "python3"
  },
  "language_info": {
   "codemirror_mode": {
    "name": "ipython",
    "version": 3
   },
   "file_extension": ".py",
   "mimetype": "text/x-python",
   "name": "python",
   "nbconvert_exporter": "python",
   "pygments_lexer": "ipython3",
   "version": "3.8.5"
  },
  "toc": {
   "base_numbering": 1,
   "nav_menu": {},
   "number_sections": true,
   "sideBar": true,
   "skip_h1_title": false,
   "title_cell": "Table of Contents",
   "title_sidebar": "Contents",
   "toc_cell": false,
   "toc_position": {},
   "toc_section_display": true,
   "toc_window_display": false
  }
 },
 "nbformat": 4,
 "nbformat_minor": 4
}
