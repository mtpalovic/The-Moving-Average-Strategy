{
 "cells": [
  {
   "cell_type": "code",
   "execution_count": 1,
   "metadata": {
    "ExecuteTime": {
     "end_time": "2021-08-13T04:42:59.806221Z",
     "start_time": "2021-08-13T04:42:57.732245Z"
    },
    "code_folding": []
   },
   "outputs": [],
   "source": [
    "# install the dependencies\n",
    "import numpy as np\n",
    "import pandas as pd\n",
    "# pandas technical analysis\n",
    "import pandas_ta as ta\n",
    "import pandas_datareader.data as web\n",
    "import matplotlib.pyplot as plt\n",
    "plt.style.use(\"bmh\")\n",
    "# plt.style.available[:] gives list of all available stylesheets\n",
    "%matplotlib inline\n",
    "import seaborn as sns\n",
    "import datetime as dt\n",
    "\n",
    "import yfinance as yf\n",
    "# yfinance is a popular open source library developed by Ran Aroussi \n",
    "# as a means to access the financial data available on Yahoo Finance\n",
    "\n",
    "from sklearn import metrics\n",
    "from sklearn.tree import DecisionTreeRegressor\n",
    "from sklearn.preprocessing import MinMaxScaler\n",
    "from sklearn.model_selection import train_test_split\n",
    "from sklearn.linear_model import LinearRegression\n",
    "\n",
    "# rc refers to run commands\n",
    "plt.rcParams[\"font.size\"] = 11\n",
    "plt.rcParams[\"figure.facecolor\"] = \"#000080\"\n",
    "sns.set_style(\"darkgrid\")"
   ]
  },
  {
   "cell_type": "code",
   "execution_count": null,
   "metadata": {
    "ExecuteTime": {
     "end_time": "2021-08-13T04:41:09.778327Z",
     "start_time": "2021-08-13T04:41:06.716322Z"
    }
   },
   "outputs": [],
   "source": [
    "end = dt.datetime.today()\n",
    "start = dt.datetime(end.year-1, end.month, end.day)\n",
    "\n",
    "jpm = web.DataReader(\"JPM\", \"yahoo\", start, end)\n",
    "ms = web.DataReader(\"MS\", \"yahoo\", start, end)\n",
    "gs = web.DataReader(\"GS\", \"yahoo\", start, end)\n",
    "bac = web.DataReader(\"BAC\", \"yahoo\", start, end)"
   ]
  },
  {
   "cell_type": "code",
   "execution_count": null,
   "metadata": {
    "ExecuteTime": {
     "end_time": "2021-08-13T04:41:09.790606Z",
     "start_time": "2021-08-13T04:41:09.780145Z"
    }
   },
   "outputs": [],
   "source": [
    "jpm"
   ]
  },
  {
   "cell_type": "code",
   "execution_count": null,
   "metadata": {
    "ExecuteTime": {
     "end_time": "2021-08-13T04:41:14.984696Z",
     "start_time": "2021-08-13T04:41:14.164316Z"
    }
   },
   "outputs": [],
   "source": [
    "l = [jpm, gs, ms, bac]\n",
    "l_s = [\"JPM\", \"GS\", \"MS\", \"BAC\"]\n",
    "plt.figure(figsize=(15,6))\n",
    "\n",
    "for i, j in enumerate(l, 1):\n",
    "    plt.subplot(2,2,i)\n",
    "    j[\"Adj Close\"].plot()\n",
    "    plt.xlabel(\"Date\")\n",
    "    plt.ylabel(\"Adj Close\")\n",
    "    plt.title(f\"Closing price of {l_s[i-1]}\")\n",
    "plt.tight_layout()"
   ]
  },
  {
   "cell_type": "code",
   "execution_count": null,
   "metadata": {
    "ExecuteTime": {
     "end_time": "2021-08-13T04:17:16.766342Z",
     "start_time": "2021-08-13T04:17:16.764470Z"
    }
   },
   "outputs": [],
   "source": [
    "# # data preprocessing (1. divide data into x,y and 2. train test split\n",
    "# X = df[[\"High\", \"Low\", \"Open\", \"Close\", \"Volume\"]]\n",
    "# y = df[\"Adj Close\"]\n",
    "\n",
    "# X_train, X_test, y_train, y_test = train_test_split(X, \n",
    "#                                                     y, \n",
    "#                                                     test_size=0.2, \n",
    "#                                                     random_state=42\n",
    "#                                                    )"
   ]
  },
  {
   "cell_type": "code",
   "execution_count": null,
   "metadata": {
    "ExecuteTime": {
     "end_time": "2021-08-13T04:17:17.452065Z",
     "start_time": "2021-08-13T04:17:17.450202Z"
    }
   },
   "outputs": [],
   "source": [
    "# MinMaxScaler\n",
    "# scaler = MinMaxScaler(feature_range=(0,1)\n",
    "# df_scaled = scaler.fit_transform(df)\n",
    "# df_scaled"
   ]
  },
  {
   "cell_type": "code",
   "execution_count": null,
   "metadata": {
    "ExecuteTime": {
     "end_time": "2021-08-13T04:17:18.059794Z",
     "start_time": "2021-08-13T04:17:18.057972Z"
    }
   },
   "outputs": [],
   "source": [
    "# lm = LinearRegression().fit(X_train, y_train)\n",
    "# lm.intercept_, lm.coef_"
   ]
  },
  {
   "cell_type": "code",
   "execution_count": null,
   "metadata": {
    "ExecuteTime": {
     "end_time": "2021-08-13T04:17:20.129814Z",
     "start_time": "2021-08-13T04:17:20.127906Z"
    }
   },
   "outputs": [],
   "source": [
    "# lmpd = pd.DataFrame(lm.coef_, X_train.columns, columns=[\"Coefficients\"])\n",
    "# lmpd"
   ]
  },
  {
   "cell_type": "code",
   "execution_count": null,
   "metadata": {
    "ExecuteTime": {
     "end_time": "2021-08-13T04:22:41.697217Z",
     "start_time": "2021-08-13T04:22:41.692883Z"
    }
   },
   "outputs": [],
   "source": [
    "# bollinger bands\n",
    "length = 30\n",
    "num_sd = 2\n",
    "def boll(closing, length, num_sd):\n",
    "    \"\"\"\n",
    "    returns average, upper band, lower band\n",
    "    \"\"\"\n",
    "    av = closing.rolling(window=length).mean()\n",
    "    sd = closing.rolling(window=length).std()\n",
    "    up = av + (num_sd*sd)\n",
    "    down = av - (num_sd*sd)\n",
    "    return np.round(av,4), np.round(up,4), np.round(down,4)"
   ]
  },
  {
   "cell_type": "code",
   "execution_count": null,
   "metadata": {
    "ExecuteTime": {
     "end_time": "2021-08-13T04:42:25.581044Z",
     "start_time": "2021-08-13T04:42:25.579349Z"
    }
   },
   "outputs": [],
   "source": [
    "# for i in range(len(l)):\n",
    "#     l[i][\"up\"], l[i][\"down\"] = boll(i[\"Adj Close\"], length=length, num_sd=num_sd)"
   ]
  }
 ],
 "metadata": {
  "kernelspec": {
   "display_name": "Python 3",
   "language": "python",
   "name": "python3"
  },
  "language_info": {
   "codemirror_mode": {
    "name": "ipython",
    "version": 3
   },
   "file_extension": ".py",
   "mimetype": "text/x-python",
   "name": "python",
   "nbconvert_exporter": "python",
   "pygments_lexer": "ipython3",
   "version": "3.8.5"
  },
  "toc": {
   "base_numbering": 1,
   "nav_menu": {},
   "number_sections": true,
   "sideBar": true,
   "skip_h1_title": false,
   "title_cell": "Table of Contents",
   "title_sidebar": "Contents",
   "toc_cell": false,
   "toc_position": {},
   "toc_section_display": true,
   "toc_window_display": false
  }
 },
 "nbformat": 4,
 "nbformat_minor": 4
}
