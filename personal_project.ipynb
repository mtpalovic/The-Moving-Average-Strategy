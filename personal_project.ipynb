{
 "cells": [
  {
   "cell_type": "markdown",
   "metadata": {},
   "source": [
    "Install the dependencies"
   ]
  },
  {
   "cell_type": "code",
   "execution_count": null,
   "metadata": {
    "ExecuteTime": {
     "end_time": "2021-08-23T17:57:53.204951Z",
     "start_time": "2021-08-23T17:57:51.901999Z"
    },
    "code_folding": []
   },
   "outputs": [],
   "source": [
    "import numpy as np\n",
    "import pandas as pd\n",
    "import pandas_ta as ta # pandas technical analysis\n",
    "import pandas_datareader.data as web\n",
    "import matplotlib.pyplot as plt\n",
    "plt.style.use(\"fivethirtyeight\") # plt.style.available[:] gives list of all available stylesheets\n",
    "%matplotlib inline\n",
    "import seaborn as sns\n",
    "import datetime as dt\n",
    "\n",
    "import yfinance as yf # as a means to access yahoo finance data\n",
    "\n",
    "from sklearn.tree import DecisionTreeRegressor\n",
    "from sklearn.preprocessing import MinMaxScaler\n",
    "from sklearn.model_selection import train_test_split\n",
    "from sklearn.linear_model import LinearRegression\n",
    "\n",
    "from sklearn.svm import SVC # svm\n",
    "from sklearn.metrics import classification_report, confusion_matrix, mean_squared_error, accuracy_score\n",
    "from sklearn.model_selection import GridSearchCV # c, gamma parameter optimisation\n",
    "\n",
    "plt.rcParams[\"font.size\"] = 11 # rc refers to run commands\n",
    "plt.rcParams[\"figure.facecolor\"] = \"#000080\"\n",
    "sns.set_style(\"darkgrid\")\n",
    "\n",
    "import warnings # ignore warnings\n",
    "warnings.filterwarnings('ignore')"
   ]
  },
  {
   "cell_type": "code",
   "execution_count": null,
   "metadata": {
    "ExecuteTime": {
     "end_time": "2021-08-23T17:57:55.891922Z",
     "start_time": "2021-08-23T17:57:53.206875Z"
    }
   },
   "outputs": [],
   "source": [
    "end = dt.datetime.today()\n",
    "start = dt.datetime(end.year-1, end.month, end.day)\n",
    "\n",
    "list_of_tickers = [\"^GSPC\", \"^IXIC\"] # add tickers here\n",
    "data = web.DataReader(list_of_tickers, 'yahoo', start, end)\n",
    "ticker = data.stack().reset_index()\n",
    "ticker = pd.DataFrame(ticker)"
   ]
  },
  {
   "cell_type": "code",
   "execution_count": null,
   "metadata": {
    "ExecuteTime": {
     "end_time": "2021-08-23T17:57:55.897302Z",
     "start_time": "2021-08-23T17:57:55.893958Z"
    }
   },
   "outputs": [],
   "source": [
    "gspc = ticker[ticker[\"Symbols\"] == \"^GSPC\"]\n",
    "ixic = ticker[ticker[\"Symbols\"] == \"^IXIC\"]"
   ]
  },
  {
   "cell_type": "code",
   "execution_count": null,
   "metadata": {
    "ExecuteTime": {
     "end_time": "2021-08-23T17:57:55.911110Z",
     "start_time": "2021-08-23T17:57:55.899194Z"
    }
   },
   "outputs": [],
   "source": [
    "days = [5,50,100,200]\n",
    "list_of_assets = [gspc, ixic]\n",
    "\n",
    "for i in days:\n",
    "    for asset in list_of_assets:\n",
    "        column_name = f\"MA for {i} days\"\n",
    "        asset[column_name] = asset[\"Adj Close\"].rolling(window=i).mean().fillna(\"-\")"
   ]
  },
  {
   "cell_type": "code",
   "execution_count": null,
   "metadata": {
    "ExecuteTime": {
     "end_time": "2021-08-23T17:57:55.916733Z",
     "start_time": "2021-08-23T17:57:55.913090Z"
    }
   },
   "outputs": [],
   "source": [
    "# bollinger bands\n",
    "def boll(closing, length, num_sd):\n",
    "    \"\"\"\n",
    "    returns average, upper band, lower band\n",
    "    \"\"\"\n",
    "    av = closing.rolling(window=length).mean()\n",
    "    sd = closing.rolling(window=length).std()\n",
    "    up = av + (num_sd*sd)\n",
    "    down = av - (num_sd*sd)\n",
    "    return np.round(down,6), np.round(av,6), np.round(up,6)"
   ]
  },
  {
   "cell_type": "code",
   "execution_count": null,
   "metadata": {
    "ExecuteTime": {
     "end_time": "2021-08-23T17:57:55.929251Z",
     "start_time": "2021-08-23T17:57:55.919072Z"
    }
   },
   "outputs": [],
   "source": [
    "length = 50\n",
    "num_sd = 2\n",
    "\n",
    "down = f\"Lower band\"\n",
    "av = f\"Middle band\"\n",
    "up = f\"Upper band\"\n",
    "\n",
    "for asset in list_of_assets:\n",
    "    asset[down], asset[av], asset[up] = boll(asset[\"Adj Close\"], \n",
    "                                             length=length, \n",
    "                                             num_sd=num_sd\n",
    "                                            )"
   ]
  },
  {
   "cell_type": "code",
   "execution_count": null,
   "metadata": {
    "ExecuteTime": {
     "end_time": "2021-08-23T17:57:56.471341Z",
     "start_time": "2021-08-23T17:57:56.238778Z"
    }
   },
   "outputs": [],
   "source": [
    "# rsi & momentum\n",
    "def rsi(values):\n",
    "    up = values[values>0].mean()\n",
    "    down = -1*values[values<0].mean()\n",
    "    return 100*up / (up + down)\n",
    "\n",
    "window = 14\n",
    "\n",
    "for asset in list_of_assets:\n",
    "    asset[\"Momentum_1D\"] = asset[\"Adj Close\"] - asset[\"Adj Close\"].shift(1)\n",
    "    asset[\"RSI_14D\"] = asset[\"Momentum_1D\"].rolling(window=window).apply(rsi)\n",
    "    asset[\"Momentum_1D\"] = asset[\"Momentum_1D\"].fillna(\"-\")\n",
    "    asset[\"RSI_14D\"] = asset[\"RSI_14D\"].fillna(\"-\")"
   ]
  },
  {
   "cell_type": "code",
   "execution_count": null,
   "metadata": {
    "ExecuteTime": {
     "end_time": "2021-08-23T17:57:56.980341Z",
     "start_time": "2021-08-23T17:57:56.972940Z"
    }
   },
   "outputs": [],
   "source": [
    "# macd\n",
    "for asset in list_of_assets:\n",
    "    asset[\"EWMA_26D\"] = asset[\"Adj Close\"].ewm(span=26).mean()\n",
    "    asset[\"EWMA_12D\"] = asset[\"Adj Close\"].ewm(span=12).mean()\n",
    "    asset[\"MACD\"] = asset[\"EWMA_12D\"] - asset[\"EWMA_26D\"]"
   ]
  },
  {
   "cell_type": "code",
   "execution_count": null,
   "metadata": {
    "ExecuteTime": {
     "end_time": "2021-08-23T18:00:05.866882Z",
     "start_time": "2021-08-23T18:00:05.858310Z"
    }
   },
   "outputs": [],
   "source": [
    "# stochastic oscillator (%K and %D)\n",
    "def stoch_osci(asset, n=10):\n",
    "    \"\"\"\n",
    "    returns the value for stochastic oscillator (%K and %D)\n",
    "    \"\"\"\n",
    "    asset[\"Stoch Osci %K/%D\"] = ((asset[\"Close\"]                                 \n",
    "                                  - asset[\"Low\"].rolling(window=n).mean()\n",
    "                                 ) /                                 \n",
    "                                 (asset[\"High\"].rolling(window=n).max()\n",
    "                                  - asset[\"Low\"].rolling(window=n).min()\n",
    "                                 )\n",
    "                                ) * 100\n",
    "\n",
    "for asset in list_of_assets:\n",
    "    stoch_osci(asset)\n",
    "    asset[\"Stoch Osci %K/%D\"] = asset[\"Stoch Osci %K/%D\"].fillna(\"-\")"
   ]
  },
  {
   "cell_type": "code",
   "execution_count": null,
   "metadata": {
    "ExecuteTime": {
     "end_time": "2021-08-23T15:13:21.123966Z",
     "start_time": "2021-08-23T15:13:21.121912Z"
    }
   },
   "outputs": [],
   "source": [
    "# df = pd.DataFrame(jpm)\n",
    "# df[\"Returns\"] = (df[\"Adj Close\"]/df[\"Adj Close\"].shift(1))-1\n",
    "\n",
    "# def direction(x):\n",
    "#     if x>0:\n",
    "#         return 1.0\n",
    "#     else:\n",
    "#         return 0.0\n",
    "    \n",
    "# df[\"Direction\"] = df[\"Returns\"].apply(direction)\n",
    "# df = df.dropna()\n",
    "\n",
    "# df = df[[\"High\", \"Low\", \"Open\", \"Close\", \"Volume\", \"Adj Close\",\"Returns\", \"Direction\"]]\n",
    "# df"
   ]
  },
  {
   "cell_type": "code",
   "execution_count": null,
   "metadata": {
    "ExecuteTime": {
     "end_time": "2021-08-20T04:56:15.236654Z",
     "start_time": "2021-08-20T04:56:15.234167Z"
    }
   },
   "outputs": [],
   "source": [
    "# l = [gspc, ixic]\n",
    "# plt.figure(figsize=(15,6))\n",
    "\n",
    "# for i, j in enumerate(l, 1):\n",
    "#     plt.subplot(2,2,i)\n",
    "#     j[\"Adj Close\"].plot()\n",
    "#     plt.xlabel(\"Date\")\n",
    "#     plt.ylabel(\"Adj Close\")\n",
    "#     plt.title(f\"Closing price of {list_of_tickers[i-1]}\")\n",
    "# plt.tight_layout()"
   ]
  },
  {
   "cell_type": "code",
   "execution_count": null,
   "metadata": {
    "ExecuteTime": {
     "end_time": "2021-08-20T18:02:17.889395Z",
     "start_time": "2021-08-20T18:02:17.806653Z"
    }
   },
   "outputs": [],
   "source": [
    "# # high c/high gamma overfitting\n",
    "# # low c/low gamma underfitting\n",
    "\n",
    "# # data pre-processing\n",
    "# X = df.iloc[:,0:5]\n",
    "# y = df.iloc[:,-1]\n",
    "\n",
    "# # MinMaxScaler\n",
    "# scaler = MinMaxScaler()\n",
    "# df = scaler.fit_transform(df)"
   ]
  },
  {
   "cell_type": "code",
   "execution_count": null,
   "metadata": {
    "ExecuteTime": {
     "start_time": "2021-08-18T03:19:55.037Z"
    }
   },
   "outputs": [],
   "source": [
    "# X_train, X_test, y_train, y_test = train_test_split(X, y, test_size=0.2, random_state=42)\n",
    "\n",
    "# X_train = np.array(X_train)\n",
    "# y_train = np.array(y_train)\n",
    "# X_test = np.array(X_test)\n",
    "# y_test = np.array(y_test)\n",
    "\n",
    "# # train the model\n",
    "# svm = SVC(C=1.0, kernel=\"linear\", gamma=\"scale\")\n",
    "# svm.fit(X_train, y_train)\n",
    "\n",
    "# # prediction\n",
    "# pred = svm.predict(X_test)\n",
    "# pred\n",
    "\n",
    "# # classification report and confusion matrix\n",
    "\n",
    "# print(\"Classification report:\")\n",
    "# print(classification_report(y_test, pred))\n",
    "\n",
    "# print(\"Confusion Matrix:\")\n",
    "# print(confusion_matrix(y_test, pred))\n",
    "\n",
    "# print(\"Accuracy score:\")\n",
    "# print(accuracy_score(y_test, pred).round(2))"
   ]
  },
  {
   "cell_type": "code",
   "execution_count": null,
   "metadata": {
    "ExecuteTime": {
     "start_time": "2021-08-18T03:19:55.713Z"
    }
   },
   "outputs": [],
   "source": [
    "# low gamma considers further away points to fit a hyperplane\n",
    "# high gamma considers only close points to fit a hyperplane (prone to overfitting)\n",
    "# too much emphasis on close points and not much on further away points - high gamma\n",
    "\n",
    "# gridsearchcv\n",
    "# param_grid = {\"C\":[0.1,1,10,100,1000], \"gamma\":[1,0.1,0.01,0.001], \"kernel\":[\"rbf\", \"poly\", \"sigmoid\"]}\n",
    "# svm_grid = GridSearchCV(SVC(), param_grid, refit=True, verbose=2)\n",
    "# # verbose just shows how much of text output during calculation to display\n",
    "\n",
    "# svm_grid.fit(X_train, y_train)\n",
    "# svm_grid.best_params_"
   ]
  },
  {
   "cell_type": "code",
   "execution_count": null,
   "metadata": {
    "ExecuteTime": {
     "start_time": "2021-08-18T03:19:56.530Z"
    }
   },
   "outputs": [],
   "source": [
    "# # prediction with gridsearchcv (then classification report/confusion matrix)/accuracy score\n",
    "# svm_grid_pred = svm_grid.predict(X_test)\n",
    "\n",
    "# print(\"Classification report:\")\n",
    "# print(classification_report(y_test, svm_grid_pred))\n",
    "\n",
    "# print(\"Confusion Matrix:\")\n",
    "# print(confusion_matrix(y_test, svm_grid_pred))\n",
    "\n",
    "# print(\"Accuracy score:\")\n",
    "# print(accuracy_score(y_test, svm_grid_pred).round(2))"
   ]
  }
 ],
 "metadata": {
  "kernelspec": {
   "display_name": "Python 3",
   "language": "python",
   "name": "python3"
  },
  "language_info": {
   "codemirror_mode": {
    "name": "ipython",
    "version": 3
   },
   "file_extension": ".py",
   "mimetype": "text/x-python",
   "name": "python",
   "nbconvert_exporter": "python",
   "pygments_lexer": "ipython3",
   "version": "3.8.5"
  },
  "toc": {
   "base_numbering": 1,
   "nav_menu": {},
   "number_sections": true,
   "sideBar": true,
   "skip_h1_title": false,
   "title_cell": "Table of Contents",
   "title_sidebar": "Contents",
   "toc_cell": false,
   "toc_position": {},
   "toc_section_display": true,
   "toc_window_display": false
  }
 },
 "nbformat": 4,
 "nbformat_minor": 4
}
