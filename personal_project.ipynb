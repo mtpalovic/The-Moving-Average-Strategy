{
 "cells": [
  {
   "cell_type": "markdown",
   "metadata": {},
   "source": [
    "Install the dependencies"
   ]
  },
  {
   "cell_type": "code",
   "execution_count": null,
   "metadata": {
    "ExecuteTime": {
     "end_time": "2021-08-20T04:08:53.581648Z",
     "start_time": "2021-08-20T04:08:52.360533Z"
    },
    "code_folding": []
   },
   "outputs": [],
   "source": [
    "import numpy as np\n",
    "import pandas as pd\n",
    "import pandas_ta as ta # pandas technical analysis\n",
    "import pandas_datareader.data as web\n",
    "import matplotlib.pyplot as plt\n",
    "plt.style.use(\"ggplot\") # plt.style.available[:] gives list of all available stylesheets\n",
    "%matplotlib inline\n",
    "import seaborn as sns\n",
    "import datetime as dt\n",
    "\n",
    "import yfinance as yf # as a means to access yahoo finance data\n",
    "\n",
    "from sklearn.tree import DecisionTreeRegressor\n",
    "from sklearn.preprocessing import MinMaxScaler\n",
    "from sklearn.model_selection import train_test_split\n",
    "from sklearn.linear_model import LinearRegression\n",
    "\n",
    "from sklearn.svm import SVC # svm\n",
    "from sklearn.metrics import classification_report, confusion_matrix, mean_squared_error, accuracy_score\n",
    "from sklearn.model_selection import GridSearchCV # c, gamma parameter optimisation\n",
    "\n",
    "plt.rcParams[\"font.size\"] = 11 # rc refers to run commands\n",
    "plt.rcParams[\"figure.facecolor\"] = \"#000080\"\n",
    "sns.set_style(\"darkgrid\")\n",
    "\n",
    "import warnings # ignore warnings\n",
    "warnings.filterwarnings('ignore')"
   ]
  },
  {
   "cell_type": "code",
   "execution_count": null,
   "metadata": {
    "ExecuteTime": {
     "end_time": "2021-08-20T04:19:20.415298Z",
     "start_time": "2021-08-20T04:19:18.172766Z"
    }
   },
   "outputs": [],
   "source": [
    "end = dt.datetime.today()\n",
    "start = dt.datetime(end.year-2, end.month, end.day)\n",
    "\n",
    "list_of_tickers = [\"^GSPC\", \"^IXIC\"] # add tickers here\n",
    "data = web.DataReader(list_of_tickers, 'yahoo', start, end)\n",
    "ticker = data.stack().reset_index()"
   ]
  },
  {
   "cell_type": "code",
   "execution_count": null,
   "metadata": {
    "ExecuteTime": {
     "end_time": "2021-08-20T04:08:54.975309Z",
     "start_time": "2021-08-20T04:08:54.968901Z"
    }
   },
   "outputs": [],
   "source": [
    "# moving average\n",
    "days = [10,20,50]\n",
    "for i in days: \n",
    "    column = f\"MA for {i} days\"\n",
    "    ticker[column] = ticker[\"Adj Close\"].rolling(window=i).mean().fillna(0)"
   ]
  },
  {
   "cell_type": "code",
   "execution_count": null,
   "metadata": {
    "ExecuteTime": {
     "end_time": "2021-08-20T04:08:54.980164Z",
     "start_time": "2021-08-20T04:08:54.977019Z"
    }
   },
   "outputs": [],
   "source": [
    "# bollinger bands\n",
    "length = 50\n",
    "num_sd = 2\n",
    "def boll(closing, length, num_sd):\n",
    "    \"\"\"\n",
    "    returns average, upper band, lower band\n",
    "    \"\"\"\n",
    "    av = closing.rolling(window=length).mean()\n",
    "    sd = closing.rolling(window=length).std()\n",
    "    up = av + (num_sd*sd)\n",
    "    down = av - (num_sd*sd)\n",
    "    return np.round(down,6), np.round(av,6), np.round(up,6)"
   ]
  },
  {
   "cell_type": "code",
   "execution_count": null,
   "metadata": {
    "ExecuteTime": {
     "end_time": "2021-08-20T04:08:54.988344Z",
     "start_time": "2021-08-20T04:08:54.981551Z"
    }
   },
   "outputs": [],
   "source": [
    "down = f\"Lower band\"\n",
    "av = f\"Middle band\"\n",
    "up = f\"Upper band\"\n",
    "ticker[down], ticker[av], ticker[up] = boll(ticker[\"Adj Close\"], length=length, num_sd=num_sd) # add columns to spx \n",
    "\n",
    "# to fill in missing values, not necessary\n",
    "ticker[down] = ticker[down].fillna(0)\n",
    "ticker[av] = ticker[av].fillna(0)\n",
    "ticker[up] = ticker[up].fillna(0)"
   ]
  },
  {
   "cell_type": "code",
   "execution_count": null,
   "metadata": {
    "ExecuteTime": {
     "end_time": "2021-08-20T04:08:55.480502Z",
     "start_time": "2021-08-20T04:08:54.990212Z"
    }
   },
   "outputs": [],
   "source": [
    "# rsi & momentum\n",
    "def rsi(values):\n",
    "    up = values[values>0].mean()\n",
    "    down = -1*values[values<0].mean()\n",
    "    return 100*up / (up + down)\n",
    "\n",
    "window = 14\n",
    "ticker[\"Momentum_1D\"] = ticker[\"Adj Close\"] - ticker[\"Adj Close\"].shift(1).fillna(0)\n",
    "ticker[\"RSI_14D\"] = ticker[\"Momentum_1D\"].rolling(window=window).apply(rsi).fillna(0)"
   ]
  },
  {
   "cell_type": "code",
   "execution_count": null,
   "metadata": {
    "ExecuteTime": {
     "end_time": "2021-08-20T04:10:54.318796Z",
     "start_time": "2021-08-20T04:10:54.293013Z"
    }
   },
   "outputs": [],
   "source": [
    "# macd\n",
    "ticker[\"EWMA_26D\"] = ticker[\"Adj Close\"].ewm(span=26).mean()\n",
    "ticker[\"EWMA_12D\"] = ticker[\"Adj Close\"].ewm(span=12).mean()\n",
    "ticker[\"MACD\"] = ticker[\"EWMA_12D\"] - ticker[\"EWMA_26D\"]\n",
    "ticker"
   ]
  },
  {
   "cell_type": "code",
   "execution_count": null,
   "metadata": {
    "ExecuteTime": {
     "end_time": "2021-08-20T03:58:47.556566Z",
     "start_time": "2021-08-20T03:58:47.552241Z"
    }
   },
   "outputs": [],
   "source": [
    "gspc = ticker[ticker[\"Symbols\"] == \"^GSPC\"]\n",
    "ixic = ticker[ticker[\"Symbols\"] == \"^IXIC\"]"
   ]
  },
  {
   "cell_type": "code",
   "execution_count": null,
   "metadata": {
    "ExecuteTime": {
     "end_time": "2021-08-18T03:47:10.624726Z",
     "start_time": "2021-08-18T03:47:10.622586Z"
    }
   },
   "outputs": [],
   "source": [
    "# df = pd.DataFrame(jpm)\n",
    "# df[\"Returns\"] = (df[\"Adj Close\"]/df[\"Adj Close\"].shift(1))-1\n",
    "\n",
    "# def direction(x):\n",
    "#     if x>0:\n",
    "#         return 1.0\n",
    "#     else:\n",
    "#         return 0.0\n",
    "    \n",
    "# df[\"Direction\"] = df[\"Returns\"].apply(direction)\n",
    "# df = df.dropna()\n",
    "\n",
    "# df = df[[\"High\", \"Low\", \"Open\", \"Close\", \"Volume\", \"Adj Close\",\"Returns\", \"Direction\"]]\n",
    "# df"
   ]
  },
  {
   "cell_type": "code",
   "execution_count": null,
   "metadata": {
    "ExecuteTime": {
     "end_time": "2021-08-18T03:33:00.530624Z",
     "start_time": "2021-08-18T03:33:00.528150Z"
    }
   },
   "outputs": [],
   "source": [
    "# l = [jpm, gs, ms, bac]\n",
    "# l_s = [\"JPM\", \"GS\", \"MS\", \"BAC\"]\n",
    "# plt.figure(figsize=(15,6))\n",
    "\n",
    "# for i, j in enumerate(l, 1):\n",
    "#     plt.subplot(2,2,i)\n",
    "#     j[\"Adj Close\"].plot()\n",
    "#     plt.xlabel(\"Date\")\n",
    "#     plt.ylabel(\"Adj Close\")\n",
    "#     plt.title(f\"Closing price of {l_s[i-1]}\")\n",
    "# plt.tight_layout()"
   ]
  },
  {
   "cell_type": "code",
   "execution_count": null,
   "metadata": {
    "ExecuteTime": {
     "end_time": "2021-08-18T03:19:53.907587Z",
     "start_time": "2021-08-18T03:19:53.902992Z"
    }
   },
   "outputs": [],
   "source": [
    "# data pre-processing\n",
    "X = df.iloc[:,0:5]\n",
    "y = df.iloc[:,-1]\n",
    "\n",
    "# MinMaxScaler\n",
    "scaler = MinMaxScaler()\n",
    "df = scaler.fit_transform(df)"
   ]
  },
  {
   "cell_type": "code",
   "execution_count": null,
   "metadata": {
    "ExecuteTime": {
     "start_time": "2021-08-18T03:19:55.037Z"
    }
   },
   "outputs": [],
   "source": [
    "X_train, X_test, y_train, y_test = train_test_split(X, y, test_size=0.2, random_state=42)\n",
    "\n",
    "X_train = np.array(X_train)\n",
    "y_train = np.array(y_train)\n",
    "X_test = np.array(X_test)\n",
    "y_test = np.array(y_test)\n",
    "\n",
    "# train the model\n",
    "svm = SVC(C=1.0, kernel=\"linear\", gamma=\"scale\")\n",
    "svm.fit(X_train, y_train)\n",
    "\n",
    "# prediction\n",
    "pred = svm.predict(X_test)\n",
    "pred\n",
    "\n",
    "# classification report and confusion matrix\n",
    "\n",
    "print(\"Classification report:\")\n",
    "print(classification_report(y_test, pred))\n",
    "\n",
    "print(\"Confusion Matrix:\")\n",
    "print(confusion_matrix(y_test, pred))\n",
    "\n",
    "print(\"Accuracy score:\")\n",
    "print(accuracy_score(y_test, pred).round(2))"
   ]
  },
  {
   "cell_type": "code",
   "execution_count": null,
   "metadata": {
    "ExecuteTime": {
     "start_time": "2021-08-18T03:19:55.713Z"
    }
   },
   "outputs": [],
   "source": [
    "# gridsearchcv\n",
    "param_grid = {\"C\":[0.1,1,10,100,1000], \"gamma\":[1,0.1,0.01,0.001]}\n",
    "svm_grid = GridSearchCV(SVC(), param_grid)\n",
    "# verbose just shows how much of text output during calculation to display\n",
    "\n",
    "svm_grid.fit(X_train, y_train)\n",
    "svm_grid.best_params_"
   ]
  },
  {
   "cell_type": "code",
   "execution_count": null,
   "metadata": {
    "ExecuteTime": {
     "start_time": "2021-08-18T03:19:56.530Z"
    }
   },
   "outputs": [],
   "source": [
    "# # prediction with gridsearchcv (then classification report/confusion matrix)/accuracy score\n",
    "svm_grid_pred = svm_grid.predict(X_test)\n",
    "\n",
    "print(\"Classification report:\")\n",
    "print(classification_report(y_test, svm_grid_pred))\n",
    "\n",
    "print(\"Confusion Matrix:\")\n",
    "print(confusion_matrix(y_test, svm_grid_pred))\n",
    "\n",
    "print(\"Accuracy score:\")\n",
    "print(accuracy_score(y_test, svm_grid_pred).round(2))"
   ]
  }
 ],
 "metadata": {
  "kernelspec": {
   "display_name": "Python 3",
   "language": "python",
   "name": "python3"
  },
  "language_info": {
   "codemirror_mode": {
    "name": "ipython",
    "version": 3
   },
   "file_extension": ".py",
   "mimetype": "text/x-python",
   "name": "python",
   "nbconvert_exporter": "python",
   "pygments_lexer": "ipython3",
   "version": "3.8.5"
  },
  "toc": {
   "base_numbering": 1,
   "nav_menu": {},
   "number_sections": true,
   "sideBar": true,
   "skip_h1_title": false,
   "title_cell": "Table of Contents",
   "title_sidebar": "Contents",
   "toc_cell": false,
   "toc_position": {},
   "toc_section_display": true,
   "toc_window_display": false
  }
 },
 "nbformat": 4,
 "nbformat_minor": 4
}
