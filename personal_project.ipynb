{
 "cells": [
  {
   "cell_type": "markdown",
   "metadata": {},
   "source": [
    "Install the dependencies"
   ]
  },
  {
   "cell_type": "code",
   "execution_count": null,
   "metadata": {
    "ExecuteTime": {
     "end_time": "2021-09-04T02:35:41.946396Z",
     "start_time": "2021-09-04T02:35:41.935953Z"
    },
    "code_folding": []
   },
   "outputs": [],
   "source": [
    "import numpy as np\n",
    "import pandas as pd\n",
    "import pandas_ta as ta # pandas technical analysis\n",
    "import pandas_datareader.data as web\n",
    "import matplotlib.pyplot as plt\n",
    "%matplotlib inline\n",
    "import seaborn as sns\n",
    "from datetime import datetime\n",
    "\n",
    "import yfinance as yf # as a means to access yahoo finance data\n",
    "\n",
    "from sklearn.tree import DecisionTreeRegressor\n",
    "from sklearn.preprocessing import MinMaxScaler\n",
    "from sklearn.model_selection import train_test_split\n",
    "from sklearn.linear_model import LinearRegression\n",
    "\n",
    "from sklearn.svm import SVC # svm\n",
    "from sklearn.metrics import classification_report, confusion_matrix, mean_squared_error, accuracy_score\n",
    "from sklearn.model_selection import GridSearchCV # c, gamma parameter optimisation\n",
    "\n",
    "# customising matplotlib with style sheets and rcParams\n",
    "# global change, for only temporary change use \"with\"\n",
    "# rc stands for run commands\n",
    "plt.style.use(\"classic\") # plt.style.available[:] gives list of all available stylesheets\n",
    "plt.rcParams[\"font.size\"] = 11\n",
    "plt.rcParams[\"lines.linestyle\"] = \"-\"\n",
    "plt.rcParams[\"figure.dpi\"] = 700 #sharp image\n",
    "\n",
    "import warnings # ignore warnings\n",
    "warnings.filterwarnings('ignore')\n",
    "\n",
    "from IPython.display import display # display all columns\n",
    "pd.options.display.max_columns = None"
   ]
  },
  {
   "cell_type": "code",
   "execution_count": null,
   "metadata": {
    "ExecuteTime": {
     "end_time": "2021-09-04T02:35:44.656491Z",
     "start_time": "2021-09-04T02:35:42.411165Z"
    }
   },
   "outputs": [],
   "source": [
    "end = datetime.today()\n",
    "start = datetime(end.year-2, end.month, end.day)\n",
    "\n",
    "list_of_tickers = [\"^GSPC\", \"^IXIC\", \"^N225\"] # add tickers here\n",
    "d = web.DataReader(list_of_tickers, 'yahoo', start, end)"
   ]
  },
  {
   "cell_type": "code",
   "execution_count": null,
   "metadata": {
    "ExecuteTime": {
     "end_time": "2021-09-04T02:35:45.007573Z",
     "start_time": "2021-09-04T02:35:44.987170Z"
    }
   },
   "outputs": [],
   "source": [
    "d"
   ]
  },
  {
   "cell_type": "code",
   "execution_count": null,
   "metadata": {
    "ExecuteTime": {
     "end_time": "2021-09-04T02:35:45.344693Z",
     "start_time": "2021-09-04T02:35:45.327923Z"
    }
   },
   "outputs": [],
   "source": [
    "# .stack() converts the innermost column index into the innermost row index\n",
    "t = d.stack() # https://medium.com/swlh/reshaping-in-pandas-with-stack-and-unstack-functions-bb169f64467d\n",
    "t = t.reset_index() # not necessary, puts the same date to each innermost row index\n",
    "t"
   ]
  },
  {
   "cell_type": "code",
   "execution_count": null,
   "metadata": {
    "ExecuteTime": {
     "end_time": "2021-09-04T02:35:45.679839Z",
     "start_time": "2021-09-04T02:35:45.675105Z"
    }
   },
   "outputs": [],
   "source": [
    "gspc = t[t[\"Symbols\"] == \"^GSPC\"]\n",
    "ixic = t[t[\"Symbols\"] == \"^IXIC\"]\n",
    "n225 = t[t[\"Symbols\"] == \"^N225\"]\n",
    "list_of_assets = [gspc, ixic, n225]"
   ]
  },
  {
   "cell_type": "code",
   "execution_count": null,
   "metadata": {
    "ExecuteTime": {
     "end_time": "2021-09-04T02:35:45.908661Z",
     "start_time": "2021-09-04T02:35:45.902603Z"
    }
   },
   "outputs": [],
   "source": [
    "for k in list_of_assets:\n",
    "    k[\"RoC\"] = ((k[\"Adj Close\"] - k[\"Adj Close\"].shift(1))/k[\"Adj Close\"].shift(1))*100"
   ]
  },
  {
   "cell_type": "code",
   "execution_count": null,
   "metadata": {
    "ExecuteTime": {
     "end_time": "2021-09-04T02:35:46.113041Z",
     "start_time": "2021-09-04T02:35:46.105677Z"
    }
   },
   "outputs": [],
   "source": [
    "days = [5,10,20] # last week, last two weeks, last month\n",
    "\n",
    "for i in days:\n",
    "    for l in list_of_assets:\n",
    "        column_name = f\"MA for {i} days\"\n",
    "        k[column_name] = k[\"Adj Close\"].rolling(window=i).mean()"
   ]
  },
  {
   "cell_type": "code",
   "execution_count": null,
   "metadata": {
    "ExecuteTime": {
     "end_time": "2021-09-04T02:35:46.304799Z",
     "start_time": "2021-09-04T02:35:46.301622Z"
    }
   },
   "outputs": [],
   "source": [
    "def boll(closing, length, num_sd):\n",
    "    \"\"\"\n",
    "    returns average, upper band, lower band\n",
    "    \"\"\"\n",
    "    av = closing.rolling(window=length).mean()\n",
    "    sd = closing.rolling(window=length).std()\n",
    "    up = av + (num_sd*sd)\n",
    "    down = av - (num_sd*sd)\n",
    "    return np.round(down,6), np.round(av,6), np.round(up,6)"
   ]
  },
  {
   "cell_type": "code",
   "execution_count": null,
   "metadata": {
    "ExecuteTime": {
     "end_time": "2021-09-04T02:35:46.512438Z",
     "start_time": "2021-09-04T02:35:46.501675Z"
    }
   },
   "outputs": [],
   "source": [
    "length = 20 # last month\n",
    "num_sd = 2\n",
    "\n",
    "down = f\"Lower band\"\n",
    "av = f\"Middle band\"\n",
    "up = f\"Upper band\"\n",
    "\n",
    "for k in list_of_assets:\n",
    "    k[down], k[av], k[up] = boll(k[\"Adj Close\"], length=length, num_sd=num_sd)"
   ]
  },
  {
   "cell_type": "code",
   "execution_count": null,
   "metadata": {
    "ExecuteTime": {
     "end_time": "2021-09-04T02:35:47.401652Z",
     "start_time": "2021-09-04T02:35:46.702858Z"
    }
   },
   "outputs": [],
   "source": [
    "def rsi(v):\n",
    "    up = v[v>0].mean()\n",
    "    down = -1*(v[v<0].mean())\n",
    "    return 100*(up / (up + down))\n",
    "\n",
    "window = 14\n",
    "\n",
    "for k in list_of_assets:\n",
    "    k[\"Momentum_1D\"] = k[\"Adj Close\"] - k[\"Adj Close\"].shift(1)\n",
    "    k[\"RSI_14D\"] = k[\"Momentum_1D\"].rolling(window=window).apply(rsi)"
   ]
  },
  {
   "cell_type": "code",
   "execution_count": null,
   "metadata": {
    "ExecuteTime": {
     "end_time": "2021-09-04T02:35:47.608611Z",
     "start_time": "2021-09-04T02:35:47.599977Z"
    }
   },
   "outputs": [],
   "source": [
    "def macd():\n",
    "    \"\"\"\n",
    "    The weights fall exponentially as data gets older, hence exponentially weighted moving average.\n",
    "    The issue with simple moving average is that old data get equal weight as more recent data.\n",
    "    \"\"\"\n",
    "    k[\"EWMA_26D\"] = k[\"Adj Close\"].ewm(span=26).mean()\n",
    "    k[\"EWMA_12D\"] = k[\"Adj Close\"].ewm(span=12).mean()\n",
    "    \n",
    "    k[\"MACD\"] = k[\"EWMA_12D\"] - k[\"EWMA_26D\"]\n",
    "\n",
    "for k in list_of_assets:\n",
    "    macd()"
   ]
  },
  {
   "cell_type": "code",
   "execution_count": null,
   "metadata": {
    "ExecuteTime": {
     "end_time": "2021-09-04T02:35:47.863221Z",
     "start_time": "2021-09-04T02:35:47.853261Z"
    }
   },
   "outputs": [],
   "source": [
    "n=10\n",
    "def stoch_osci():\n",
    "    \"\"\"\n",
    "    Returns the value for stochastic oscillator (%K and %D).\n",
    "    \"\"\"\n",
    "    k[\"Stoch Osci %K/%D\"] = ((k[\"Close\"]                                 \n",
    "                                  - k[\"Low\"].rolling(window=n).mean()\n",
    "                                 ) /                                 \n",
    "                                 (k[\"High\"].rolling(window=n).max()\n",
    "                                  - k[\"Low\"].rolling(window=n).min()\n",
    "                                 )\n",
    "                                ) * 100\n",
    "\n",
    "for k in list_of_assets:\n",
    "    stoch_osci()"
   ]
  },
  {
   "cell_type": "code",
   "execution_count": null,
   "metadata": {
    "ExecuteTime": {
     "end_time": "2021-09-04T02:35:48.101162Z",
     "start_time": "2021-09-04T02:35:48.093552Z"
    }
   },
   "outputs": [],
   "source": [
    "window = 14\n",
    "def willR():\n",
    "    \"\"\"\n",
    "    The high-low range is 10 (110 - 100), which is the denominator in the %R formula. \n",
    "    The highest high less the close equals 2 (110 - 108), which in turn is divided by 10, resulting in 0.20. \n",
    "    Multiply this number by -100 to get -20 for %R. \n",
    "    If the close was 103, Williams %R would be -70 (((110-103)/10) x -100).\n",
    "    \"\"\"\n",
    "    h = k[\"High\"].rolling(window=window).max() # highest price over 14 days\n",
    "    l = k[\"Low\"].rolling(window=window).min() # lowest price over 14 days\n",
    "    k[\"Williams %R\"] = -100*((h - k[\"Adj Close\"])/(h - l))\n",
    "\n",
    "for k in list_of_assets:\n",
    "    willR()"
   ]
  },
  {
   "cell_type": "code",
   "execution_count": null,
   "metadata": {
    "ExecuteTime": {
     "end_time": "2021-09-04T02:35:48.338614Z",
     "start_time": "2021-09-04T02:35:48.335216Z"
    }
   },
   "outputs": [],
   "source": [
    "tp = 25\n",
    "def a():\n",
    "    u = []\n",
    "    d = []\n",
    "    x = tp\n",
    "    while x < len(k[\"Date\"]):\n",
    "        u_ = ((k[\"High\"][x-tp:x].tolist().index(max(k[\"High\"][x-tp:x])))/float(tp))*100\n",
    "        d_ = ((k[\"Low\"][x-tp:x].to_list().index(max(k[\"Low\"][x-tp:x])))/float(tp))*100\n",
    "        u.append(u_)\n",
    "        d.append(d_)\n",
    "        x+=1\n",
    "    return u,d"
   ]
  },
  {
   "cell_type": "code",
   "execution_count": null,
   "metadata": {
    "ExecuteTime": {
     "end_time": "2021-09-04T02:35:48.733375Z",
     "start_time": "2021-09-04T02:35:48.570759Z"
    }
   },
   "outputs": [],
   "source": [
    "for k in list_of_assets:\n",
    "    zeros = [0] * 25\n",
    "    up, down = a()\n",
    "    a_list = [a - b for a,b in zip(up, down)]\n",
    "    if len(a_list) == 0:\n",
    "        a_list = [0] * l.shape[0] # .shape[0] returns number of rows in dataset, .shape[1] n of cols \n",
    "        k[\"Arron Oscillator\"] = a_list\n",
    "    else:\n",
    "        k[\"Arron Oscillator\"] = zeros + a_list"
   ]
  },
  {
   "cell_type": "code",
   "execution_count": null,
   "metadata": {
    "ExecuteTime": {
     "end_time": "2021-09-04T02:35:48.739705Z",
     "start_time": "2021-09-04T02:35:48.734949Z"
    },
    "code_folding": []
   },
   "outputs": [],
   "source": [
    "def direction(x):\n",
    "    if x > 0:\n",
    "        return 1.0\n",
    "    else:\n",
    "        return 0.0\n",
    "\n",
    "for k in list_of_assets:\n",
    "    k[\"Direction\"] = k[\"RoC\"].apply(direction)"
   ]
  },
  {
   "cell_type": "code",
   "execution_count": null,
   "metadata": {
    "ExecuteTime": {
     "end_time": "2021-09-04T02:35:49.288339Z",
     "start_time": "2021-09-04T02:35:49.284148Z"
    }
   },
   "outputs": [],
   "source": [
    "gspc.dtypes # all columns are float64"
   ]
  },
  {
   "cell_type": "code",
   "execution_count": null,
   "metadata": {
    "ExecuteTime": {
     "end_time": "2021-09-04T02:35:49.614205Z",
     "start_time": "2021-09-04T02:35:49.592559Z"
    }
   },
   "outputs": [],
   "source": [
    "gspc.tail(20)"
   ]
  },
  {
   "cell_type": "code",
   "execution_count": null,
   "metadata": {
    "ExecuteTime": {
     "end_time": "2021-09-04T02:36:17.033173Z",
     "start_time": "2021-09-04T02:36:17.001134Z"
    }
   },
   "outputs": [],
   "source": [
    "gspc.fillna(\"-\", axis=1, inplace=True) # once I put \"-\" it converts data type from float64 into object\n",
    "ixic.fillna(\"-\", axis=1, inplace=True) # put this at very end so that I can work with float64\n",
    "ixic"
   ]
  },
  {
   "cell_type": "code",
   "execution_count": null,
   "metadata": {
    "ExecuteTime": {
     "end_time": "2021-09-04T02:35:50.240865Z",
     "start_time": "2021-09-04T02:35:50.237575Z"
    }
   },
   "outputs": [],
   "source": [
    "plt.style.available"
   ]
  },
  {
   "cell_type": "code",
   "execution_count": null,
   "metadata": {
    "ExecuteTime": {
     "end_time": "2021-09-04T02:35:50.526109Z",
     "start_time": "2021-09-04T02:35:50.523074Z"
    }
   },
   "outputs": [],
   "source": [
    "def p_twinx():\n",
    "    \"\"\"\n",
    "    The below code plots two lineplots on the same chart. \n",
    "    \"\"\"\n",
    "    fig, ax = plt.subplots(1,1,figsize=(15,4), constrained_layout=True)\n",
    "    ax.plot(gspc[\"Date\"], gspc[\"Adj Close\"], color=\"blue\")\n",
    "    ax.set(title=\"^GSPC/^IXIC\")\n",
    "\n",
    "    ax2 = ax.twinx()\n",
    "    ax2.plot(ixic[\"Date\"], ixic[\"Adj Close\"], color=\"red\")\n",
    "\n",
    "    ax.tick_params(\"y\", colors=\"blue\")\n",
    "    ax2.tick_params(\"y\", colors=\"red\")"
   ]
  },
  {
   "cell_type": "code",
   "execution_count": null,
   "metadata": {
    "ExecuteTime": {
     "end_time": "2021-09-04T02:35:50.831014Z",
     "start_time": "2021-09-04T02:35:50.827154Z"
    }
   },
   "outputs": [],
   "source": [
    "def p():\n",
    "    fig, (ax1, ax2, ax3) = plt.subplots(3,1,figsize=(15,10), constrained_layout=True)\n",
    "    ax1.plot(gspc[\"Date\"], gspc[\"Adj Close\"], color=\"blue\")\n",
    "    ax1.set(title=\"^GSPC\")\n",
    "    \n",
    "    ax2.plot(ixic[\"Date\"], ixic[\"Adj Close\"])\n",
    "    ax2.set(title=\"^IXIC\")\n",
    "    \n",
    "    ax3.plot(n225[\"Date\"], n225[\"Adj Close\"])\n",
    "    ax3.set(title=\"^N225\")\n",
    "\n",
    "    fig.tight_layout(h_pad=2)"
   ]
  },
  {
   "cell_type": "code",
   "execution_count": null,
   "metadata": {
    "ExecuteTime": {
     "end_time": "2021-09-04T02:35:53.161957Z",
     "start_time": "2021-09-04T02:35:51.128178Z"
    }
   },
   "outputs": [],
   "source": [
    "# used for local change only, rcParams used for global change\n",
    "with plt.style.context(\"seaborn-ticks\"):\n",
    "    p_twinx()"
   ]
  },
  {
   "cell_type": "code",
   "execution_count": null,
   "metadata": {
    "ExecuteTime": {
     "end_time": "2021-09-04T02:23:13.889976Z",
     "start_time": "2021-09-04T02:23:13.888361Z"
    }
   },
   "outputs": [],
   "source": [
    "# # high c/high gamma overfitting\n",
    "# # low c/low gamma underfitting\n",
    "\n",
    "# # data pre-processing\n",
    "# X = df.iloc[:,0:5]\n",
    "# y = df.iloc[:,-1]\n",
    "\n",
    "# # MinMaxScaler\n",
    "# scaler = MinMaxScaler()\n",
    "# df = scaler.fit_transform(df)"
   ]
  },
  {
   "cell_type": "code",
   "execution_count": null,
   "metadata": {
    "ExecuteTime": {
     "end_time": "2021-09-04T02:16:48.213686Z",
     "start_time": "2021-09-04T02:16:47.235Z"
    }
   },
   "outputs": [],
   "source": [
    "# X_train, X_test, y_train, y_test = train_test_split(X, y, test_size=0.2, random_state=42)\n",
    "\n",
    "# X_train = np.array(X_train)\n",
    "# y_train = np.array(y_train)\n",
    "# X_test = np.array(X_test)\n",
    "# y_test = np.array(y_test)\n",
    "\n",
    "# # train the model\n",
    "# svm = SVC(C=1.0, kernel=\"linear\", gamma=\"scale\")\n",
    "# svm.fit(X_train, y_train)\n",
    "\n",
    "# # prediction\n",
    "# pred = svm.predict(X_test)\n",
    "# pred\n",
    "\n",
    "# # classification report and confusion matrix\n",
    "\n",
    "# print(\"Classification report:\")\n",
    "# print(classification_report(y_test, pred))\n",
    "\n",
    "# print(\"Confusion Matrix:\")\n",
    "# print(confusion_matrix(y_test, pred))\n",
    "\n",
    "# print(\"Accuracy score:\")\n",
    "# print(accuracy_score(y_test, pred).round(2))"
   ]
  },
  {
   "cell_type": "code",
   "execution_count": null,
   "metadata": {
    "ExecuteTime": {
     "end_time": "2021-09-03T16:45:53.392607Z",
     "start_time": "2021-09-03T16:45:53.390783Z"
    }
   },
   "outputs": [],
   "source": [
    "# low gamma considers further away points to fit a hyperplane\n",
    "# high gamma considers only close points to fit a hyperplane (prone to overfitting)\n",
    "# too much emphasis on close points and not much on further away points - high gamma\n",
    "\n",
    "# gridsearchcv\n",
    "# param_grid = {\"C\":[0.1,1,10,100,1000], \"gamma\":[1,0.1,0.01,0.001], \"kernel\":[\"rbf\", \"poly\", \"sigmoid\"]}\n",
    "# svm_grid = GridSearchCV(SVC(), param_grid, refit=True, verbose=2)\n",
    "# # verbose just shows how much of text output during calculation to display\n",
    "\n",
    "# svm_grid.fit(X_train, y_train)\n",
    "# svm_grid.best_params_"
   ]
  },
  {
   "cell_type": "code",
   "execution_count": null,
   "metadata": {
    "ExecuteTime": {
     "end_time": "2021-09-02T02:15:26.169186Z",
     "start_time": "2021-09-02T02:15:26.167336Z"
    }
   },
   "outputs": [],
   "source": [
    "# # prediction with gridsearchcv (then classification report/confusion matrix)/accuracy score\n",
    "# svm_grid_pred = svm_grid.predict(X_test)\n",
    "\n",
    "# print(\"Classification report:\")\n",
    "# print(classification_report(y_test, svm_grid_pred))\n",
    "\n",
    "# print(\"Confusion Matrix:\")\n",
    "# print(confusion_matrix(y_test, svm_grid_pred))\n",
    "\n",
    "# print(\"Accuracy score:\")\n",
    "# print(accuracy_score(y_test, svm_grid_pred).round(2))"
   ]
  }
 ],
 "metadata": {
  "kernelspec": {
   "display_name": "Python 3",
   "language": "python",
   "name": "python3"
  },
  "language_info": {
   "codemirror_mode": {
    "name": "ipython",
    "version": 3
   },
   "file_extension": ".py",
   "mimetype": "text/x-python",
   "name": "python",
   "nbconvert_exporter": "python",
   "pygments_lexer": "ipython3",
   "version": "3.8.5"
  },
  "toc": {
   "base_numbering": 1,
   "nav_menu": {},
   "number_sections": true,
   "sideBar": true,
   "skip_h1_title": false,
   "title_cell": "Table of Contents",
   "title_sidebar": "Contents",
   "toc_cell": false,
   "toc_position": {},
   "toc_section_display": true,
   "toc_window_display": false
  },
  "varInspector": {
   "cols": {
    "lenName": 16,
    "lenType": 16,
    "lenVar": 40
   },
   "kernels_config": {
    "python": {
     "delete_cmd_postfix": "",
     "delete_cmd_prefix": "del ",
     "library": "var_list.py",
     "varRefreshCmd": "print(var_dic_list())"
    },
    "r": {
     "delete_cmd_postfix": ") ",
     "delete_cmd_prefix": "rm(",
     "library": "var_list.r",
     "varRefreshCmd": "cat(var_dic_list()) "
    }
   },
   "position": {
    "height": "812px",
    "left": "1306px",
    "right": "20px",
    "top": "120px",
    "width": "354px"
   },
   "types_to_exclude": [
    "module",
    "function",
    "builtin_function_or_method",
    "instance",
    "_Feature"
   ],
   "window_display": false
  }
 },
 "nbformat": 4,
 "nbformat_minor": 4
}
