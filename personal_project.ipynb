{
 "cells": [
  {
   "cell_type": "markdown",
   "metadata": {},
   "source": [
    "Install the dependencies"
   ]
  },
  {
   "cell_type": "code",
   "execution_count": null,
   "metadata": {
    "ExecuteTime": {
     "end_time": "2021-08-17T05:39:36.800071Z",
     "start_time": "2021-08-17T05:39:35.668764Z"
    },
    "code_folding": []
   },
   "outputs": [],
   "source": [
    "import numpy as np\n",
    "import pandas as pd\n",
    "import pandas_ta as ta # pandas technical analysis\n",
    "import pandas_datareader.data as web\n",
    "import matplotlib.pyplot as plt\n",
    "plt.style.use(\"ggplot\") # plt.style.available[:] gives list of all available stylesheets\n",
    "%matplotlib inline\n",
    "import seaborn as sns\n",
    "import datetime as dt\n",
    "\n",
    "import yfinance as yf # as a means to access yahoo finance data\n",
    "\n",
    "from sklearn.tree import DecisionTreeRegressor\n",
    "from sklearn.preprocessing import MinMaxScaler\n",
    "from sklearn.model_selection import train_test_split\n",
    "from sklearn.linear_model import LinearRegression\n",
    "\n",
    "from sklearn.svm import SVC # svm\n",
    "from sklearn.metrics import classification_report, confusion_matrix, mean_squared_error, accuracy_score\n",
    "from sklearn.model_selection import GridSearchCV # c, gamma parameter optimisation\n",
    "\n",
    "plt.rcParams[\"font.size\"] = 11 # rc refers to run commands\n",
    "plt.rcParams[\"figure.facecolor\"] = \"#000080\"\n",
    "sns.set_style(\"darkgrid\")\n",
    "\n",
    "import warnings # ignores warnings\n",
    "warnings.filterwarnings('ignore')"
   ]
  },
  {
   "cell_type": "code",
   "execution_count": 2,
   "metadata": {
    "ExecuteTime": {
     "end_time": "2021-08-17T05:39:39.715915Z",
     "start_time": "2021-08-17T05:39:38.776603Z"
    }
   },
   "outputs": [],
   "source": [
    "end = dt.datetime.today()\n",
    "start = dt.datetime(end.year-1, end.month, end.day)\n",
    "jpm = web.DataReader(\"JPM\", \"yahoo\", start, end)"
   ]
  },
  {
   "cell_type": "code",
   "execution_count": 3,
   "metadata": {
    "ExecuteTime": {
     "end_time": "2021-08-17T05:39:40.605284Z",
     "start_time": "2021-08-17T05:39:40.580326Z"
    }
   },
   "outputs": [
    {
     "data": {
      "text/html": [
       "<div>\n",
       "<style scoped>\n",
       "    .dataframe tbody tr th:only-of-type {\n",
       "        vertical-align: middle;\n",
       "    }\n",
       "\n",
       "    .dataframe tbody tr th {\n",
       "        vertical-align: top;\n",
       "    }\n",
       "\n",
       "    .dataframe thead th {\n",
       "        text-align: right;\n",
       "    }\n",
       "</style>\n",
       "<table border=\"1\" class=\"dataframe\">\n",
       "  <thead>\n",
       "    <tr style=\"text-align: right;\">\n",
       "      <th></th>\n",
       "      <th>High</th>\n",
       "      <th>Low</th>\n",
       "      <th>Open</th>\n",
       "      <th>Close</th>\n",
       "      <th>Volume</th>\n",
       "      <th>Adj Close</th>\n",
       "      <th>Returns</th>\n",
       "      <th>Direction</th>\n",
       "    </tr>\n",
       "    <tr>\n",
       "      <th>Date</th>\n",
       "      <th></th>\n",
       "      <th></th>\n",
       "      <th></th>\n",
       "      <th></th>\n",
       "      <th></th>\n",
       "      <th></th>\n",
       "      <th></th>\n",
       "      <th></th>\n",
       "    </tr>\n",
       "  </thead>\n",
       "  <tbody>\n",
       "    <tr>\n",
       "      <th>2020-08-18</th>\n",
       "      <td>99.910004</td>\n",
       "      <td>98.120003</td>\n",
       "      <td>99.910004</td>\n",
       "      <td>98.320000</td>\n",
       "      <td>13246500.0</td>\n",
       "      <td>95.602272</td>\n",
       "      <td>-0.013940</td>\n",
       "      <td>0.0</td>\n",
       "    </tr>\n",
       "    <tr>\n",
       "      <th>2020-08-19</th>\n",
       "      <td>100.589996</td>\n",
       "      <td>98.339996</td>\n",
       "      <td>98.919998</td>\n",
       "      <td>98.550003</td>\n",
       "      <td>13533000.0</td>\n",
       "      <td>95.825912</td>\n",
       "      <td>0.002339</td>\n",
       "      <td>1.0</td>\n",
       "    </tr>\n",
       "    <tr>\n",
       "      <th>2020-08-20</th>\n",
       "      <td>98.029999</td>\n",
       "      <td>96.800003</td>\n",
       "      <td>97.260002</td>\n",
       "      <td>97.370003</td>\n",
       "      <td>13672600.0</td>\n",
       "      <td>94.678528</td>\n",
       "      <td>-0.011974</td>\n",
       "      <td>0.0</td>\n",
       "    </tr>\n",
       "    <tr>\n",
       "      <th>2020-08-21</th>\n",
       "      <td>98.570000</td>\n",
       "      <td>96.940002</td>\n",
       "      <td>97.269997</td>\n",
       "      <td>97.320000</td>\n",
       "      <td>12228300.0</td>\n",
       "      <td>94.629913</td>\n",
       "      <td>-0.000513</td>\n",
       "      <td>0.0</td>\n",
       "    </tr>\n",
       "    <tr>\n",
       "      <th>2020-08-24</th>\n",
       "      <td>100.209999</td>\n",
       "      <td>97.419998</td>\n",
       "      <td>98.449997</td>\n",
       "      <td>100.059998</td>\n",
       "      <td>17898300.0</td>\n",
       "      <td>97.294174</td>\n",
       "      <td>0.028155</td>\n",
       "      <td>1.0</td>\n",
       "    </tr>\n",
       "    <tr>\n",
       "      <th>...</th>\n",
       "      <td>...</td>\n",
       "      <td>...</td>\n",
       "      <td>...</td>\n",
       "      <td>...</td>\n",
       "      <td>...</td>\n",
       "      <td>...</td>\n",
       "      <td>...</td>\n",
       "      <td>...</td>\n",
       "    </tr>\n",
       "    <tr>\n",
       "      <th>2021-08-10</th>\n",
       "      <td>159.979996</td>\n",
       "      <td>156.309998</td>\n",
       "      <td>156.740005</td>\n",
       "      <td>159.259995</td>\n",
       "      <td>8667000.0</td>\n",
       "      <td>159.259995</td>\n",
       "      <td>0.012267</td>\n",
       "      <td>1.0</td>\n",
       "    </tr>\n",
       "    <tr>\n",
       "      <th>2021-08-11</th>\n",
       "      <td>161.500000</td>\n",
       "      <td>159.080002</td>\n",
       "      <td>160.000000</td>\n",
       "      <td>161.160004</td>\n",
       "      <td>9156500.0</td>\n",
       "      <td>161.160004</td>\n",
       "      <td>0.011930</td>\n",
       "      <td>1.0</td>\n",
       "    </tr>\n",
       "    <tr>\n",
       "      <th>2021-08-12</th>\n",
       "      <td>162.369995</td>\n",
       "      <td>160.550003</td>\n",
       "      <td>161.880005</td>\n",
       "      <td>161.789993</td>\n",
       "      <td>8844200.0</td>\n",
       "      <td>161.789993</td>\n",
       "      <td>0.003909</td>\n",
       "      <td>1.0</td>\n",
       "    </tr>\n",
       "    <tr>\n",
       "      <th>2021-08-13</th>\n",
       "      <td>162.160004</td>\n",
       "      <td>159.570007</td>\n",
       "      <td>161.789993</td>\n",
       "      <td>159.979996</td>\n",
       "      <td>8980000.0</td>\n",
       "      <td>159.979996</td>\n",
       "      <td>-0.011187</td>\n",
       "      <td>0.0</td>\n",
       "    </tr>\n",
       "    <tr>\n",
       "      <th>2021-08-16</th>\n",
       "      <td>159.029999</td>\n",
       "      <td>156.779999</td>\n",
       "      <td>158.940002</td>\n",
       "      <td>158.929993</td>\n",
       "      <td>8755800.0</td>\n",
       "      <td>158.929993</td>\n",
       "      <td>-0.006563</td>\n",
       "      <td>0.0</td>\n",
       "    </tr>\n",
       "  </tbody>\n",
       "</table>\n",
       "<p>251 rows × 8 columns</p>\n",
       "</div>"
      ],
      "text/plain": [
       "                  High         Low        Open       Close      Volume  \\\n",
       "Date                                                                     \n",
       "2020-08-18   99.910004   98.120003   99.910004   98.320000  13246500.0   \n",
       "2020-08-19  100.589996   98.339996   98.919998   98.550003  13533000.0   \n",
       "2020-08-20   98.029999   96.800003   97.260002   97.370003  13672600.0   \n",
       "2020-08-21   98.570000   96.940002   97.269997   97.320000  12228300.0   \n",
       "2020-08-24  100.209999   97.419998   98.449997  100.059998  17898300.0   \n",
       "...                ...         ...         ...         ...         ...   \n",
       "2021-08-10  159.979996  156.309998  156.740005  159.259995   8667000.0   \n",
       "2021-08-11  161.500000  159.080002  160.000000  161.160004   9156500.0   \n",
       "2021-08-12  162.369995  160.550003  161.880005  161.789993   8844200.0   \n",
       "2021-08-13  162.160004  159.570007  161.789993  159.979996   8980000.0   \n",
       "2021-08-16  159.029999  156.779999  158.940002  158.929993   8755800.0   \n",
       "\n",
       "             Adj Close   Returns  Direction  \n",
       "Date                                         \n",
       "2020-08-18   95.602272 -0.013940        0.0  \n",
       "2020-08-19   95.825912  0.002339        1.0  \n",
       "2020-08-20   94.678528 -0.011974        0.0  \n",
       "2020-08-21   94.629913 -0.000513        0.0  \n",
       "2020-08-24   97.294174  0.028155        1.0  \n",
       "...                ...       ...        ...  \n",
       "2021-08-10  159.259995  0.012267        1.0  \n",
       "2021-08-11  161.160004  0.011930        1.0  \n",
       "2021-08-12  161.789993  0.003909        1.0  \n",
       "2021-08-13  159.979996 -0.011187        0.0  \n",
       "2021-08-16  158.929993 -0.006563        0.0  \n",
       "\n",
       "[251 rows x 8 columns]"
      ]
     },
     "execution_count": 3,
     "metadata": {},
     "output_type": "execute_result"
    }
   ],
   "source": [
    "df = pd.DataFrame(jpm)\n",
    "df[\"Returns\"] = (df[\"Adj Close\"]/df[\"Adj Close\"].shift(1))-1\n",
    "\n",
    "def direction(x):\n",
    "    if x>0:\n",
    "        return 1.0\n",
    "    else:\n",
    "        return 0.0\n",
    "    \n",
    "df[\"Direction\"] = df[\"Returns\"].apply(direction)\n",
    "df = df.dropna()\n",
    "\n",
    "df = df[[\"High\", \"Low\", \"Open\", \"Close\", \"Volume\", \"Adj Close\",\"Returns\", \"Direction\"]]\n",
    "df"
   ]
  },
  {
   "cell_type": "code",
   "execution_count": 4,
   "metadata": {
    "ExecuteTime": {
     "end_time": "2021-08-17T05:39:42.157036Z",
     "start_time": "2021-08-17T05:39:42.154715Z"
    }
   },
   "outputs": [],
   "source": [
    "# l = [jpm, gs, ms, bac]\n",
    "# l_s = [\"JPM\", \"GS\", \"MS\", \"BAC\"]\n",
    "# plt.figure(figsize=(15,6))\n",
    "\n",
    "# for i, j in enumerate(l, 1):\n",
    "#     plt.subplot(2,2,i)\n",
    "#     j[\"Adj Close\"].plot()\n",
    "#     plt.xlabel(\"Date\")\n",
    "#     plt.ylabel(\"Adj Close\")\n",
    "#     plt.title(f\"Closing price of {l_s[i-1]}\")\n",
    "# plt.tight_layout()"
   ]
  },
  {
   "cell_type": "code",
   "execution_count": 5,
   "metadata": {
    "ExecuteTime": {
     "end_time": "2021-08-17T05:39:43.077261Z",
     "start_time": "2021-08-17T05:39:43.075278Z"
    }
   },
   "outputs": [],
   "source": [
    "# # bollinger bands\n",
    "# length = 30\n",
    "# num_sd = 2\n",
    "# def boll(closing, length, num_sd):\n",
    "#     \"\"\"\n",
    "#     returns average, upper band, lower band\n",
    "#     \"\"\"\n",
    "#     av = closing.rolling(window=length).mean()\n",
    "#     sd = closing.rolling(window=length).std()\n",
    "#     up = av + (num_sd*sd)\n",
    "#     down = av - (num_sd*sd)\n",
    "#     return np.round(av,4), np.round(up,4), np.round(down,4)"
   ]
  },
  {
   "cell_type": "code",
   "execution_count": 6,
   "metadata": {
    "ExecuteTime": {
     "end_time": "2021-08-17T05:39:43.588105Z",
     "start_time": "2021-08-17T05:39:43.583371Z"
    }
   },
   "outputs": [],
   "source": [
    "# data pre-processing\n",
    "X = df.iloc[:,0:5]\n",
    "y = df.iloc[:,-1]\n",
    "\n",
    "# MinMaxScaler\n",
    "scaler = MinMaxScaler()\n",
    "df = scaler.fit_transform(df)"
   ]
  },
  {
   "cell_type": "markdown",
   "metadata": {},
   "source": [
    "Support vector machines"
   ]
  },
  {
   "cell_type": "code",
   "execution_count": null,
   "metadata": {
    "ExecuteTime": {
     "start_time": "2021-08-17T05:39:45.577Z"
    }
   },
   "outputs": [],
   "source": [
    "X_train, X_test, y_train, y_test = train_test_split(X, y, test_size=0.2, random_state=42)\n",
    "\n",
    "X_train = np.array(X_train)\n",
    "y_train = np.array(y_train)\n",
    "X_test = np.array(X_test)\n",
    "y_test = np.array(y_test)\n",
    "\n",
    "# train the model\n",
    "svm = SVC(C=1.0, kernel=\"linear\", degree=3, gamma=\"scale\")\n",
    "svm.fit(X_train, y_train)\n",
    "\n",
    "# prediction\n",
    "pred = svm.predict(X_test)\n",
    "pred\n",
    "\n",
    "# classification report and confusion matrix\n",
    "\n",
    "print(\"Classification report:\")\n",
    "print(classification_report(y_test, pred))\n",
    "\n",
    "print(\"Confusion Matrix:\")\n",
    "print(confusion_matrix(y_test, pred))\n",
    "\n",
    "print(\"Accuracy score:\")\n",
    "print(accuracy_score(y_test, pred).round(2))"
   ]
  },
  {
   "cell_type": "code",
   "execution_count": null,
   "metadata": {
    "ExecuteTime": {
     "start_time": "2021-08-17T05:39:16.815Z"
    }
   },
   "outputs": [],
   "source": [
    "# gridsearchcv\n",
    "param_grid = {\"C\":[0.1,1,10,100,1000], \"gamma\":[1,0.1,0.01,0.001]}\n",
    "svm_grid = GridSearchCV(SVC(), param_grid)\n",
    "# verbose just shows how much of text output during calculation to display\n",
    "\n",
    "svm_grid.fit(X_train, y_train)\n",
    "svm_grid.best_params_"
   ]
  },
  {
   "cell_type": "code",
   "execution_count": null,
   "metadata": {
    "ExecuteTime": {
     "start_time": "2021-08-17T05:37:22.304Z"
    }
   },
   "outputs": [],
   "source": [
    "# # prediction with gridsearchcv (then classification report/confusion matrix)/accuracy score\n",
    "svm_grid_pred = svm_grid.predict(X_test)\n",
    "\n",
    "print(\"Classification report:\")\n",
    "print(classification_report(y_test, svm_grid_pred))\n",
    "\n",
    "print(\"Confusion Matrix:\")\n",
    "print(confusion_matrix(y_test, svm_grid_pred))\n",
    "\n",
    "print(\"Accuracy score:\")\n",
    "print(accuracy_score(y_test, svm_grid_pred).round(2))"
   ]
  },
  {
   "cell_type": "code",
   "execution_count": null,
   "metadata": {},
   "outputs": [],
   "source": []
  }
 ],
 "metadata": {
  "kernelspec": {
   "display_name": "Python 3",
   "language": "python",
   "name": "python3"
  },
  "language_info": {
   "codemirror_mode": {
    "name": "ipython",
    "version": 3
   },
   "file_extension": ".py",
   "mimetype": "text/x-python",
   "name": "python",
   "nbconvert_exporter": "python",
   "pygments_lexer": "ipython3",
   "version": "3.8.5"
  },
  "toc": {
   "base_numbering": 1,
   "nav_menu": {},
   "number_sections": true,
   "sideBar": true,
   "skip_h1_title": false,
   "title_cell": "Table of Contents",
   "title_sidebar": "Contents",
   "toc_cell": false,
   "toc_position": {},
   "toc_section_display": true,
   "toc_window_display": false
  }
 },
 "nbformat": 4,
 "nbformat_minor": 4
}
