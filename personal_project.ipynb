{
 "cells": [
  {
   "cell_type": "markdown",
   "metadata": {},
   "source": [
    "Install the dependencies"
   ]
  },
  {
   "cell_type": "code",
   "execution_count": null,
   "metadata": {
    "ExecuteTime": {
     "end_time": "2021-09-01T14:56:12.164717Z",
     "start_time": "2021-09-01T14:56:09.812950Z"
    },
    "code_folding": []
   },
   "outputs": [],
   "source": [
    "import numpy as np\n",
    "import pandas as pd\n",
    "import pandas_ta as ta # pandas technical analysis\n",
    "import pandas_datareader.data as web\n",
    "import matplotlib.pyplot as plt\n",
    "%matplotlib inline\n",
    "import seaborn as sns\n",
    "from datetime import datetime\n",
    "\n",
    "import yfinance as yf # as a means to access yahoo finance data\n",
    "\n",
    "from sklearn.tree import DecisionTreeRegressor\n",
    "from sklearn.preprocessing import MinMaxScaler\n",
    "from sklearn.model_selection import train_test_split\n",
    "from sklearn.linear_model import LinearRegression\n",
    "\n",
    "from sklearn.svm import SVC # svm\n",
    "from sklearn.metrics import classification_report, confusion_matrix, mean_squared_error, accuracy_score\n",
    "from sklearn.model_selection import GridSearchCV # c, gamma parameter optimisation\n",
    "\n",
    "# customising matplotlib with style sheets and rcParams\n",
    "# global change, for only temporary change use \"with\"\n",
    "# rc stands for run commands\n",
    "plt.style.use(\"classic\") # plt.style.available[:] gives list of all available stylesheets\n",
    "plt.rcParams[\"font.size\"] = 11\n",
    "plt.rcParams[\"lines.linestyle\"] = \"-\"\n",
    "plt.rcParams[\"figure.dpi\"] = 500 #sharp image\n",
    "\n",
    "import warnings # ignore warnings\n",
    "warnings.filterwarnings('ignore')\n",
    "\n",
    "from IPython.display import display # display all columns\n",
    "pd.options.display.max_columns = None"
   ]
  },
  {
   "cell_type": "code",
   "execution_count": null,
   "metadata": {
    "ExecuteTime": {
     "end_time": "2021-09-01T14:56:14.438454Z",
     "start_time": "2021-09-01T14:56:12.166352Z"
    }
   },
   "outputs": [],
   "source": [
    "end = datetime.today()\n",
    "start = datetime(end.year-2, end.month, end.day)\n",
    "\n",
    "list_of_tickers = [\"^GSPC\", \"^IXIC\", \"^N225\"] # add tickers here\n",
    "d = web.DataReader(list_of_tickers, 'yahoo', start, end)"
   ]
  },
  {
   "cell_type": "code",
   "execution_count": null,
   "metadata": {
    "ExecuteTime": {
     "end_time": "2021-09-01T14:56:14.467160Z",
     "start_time": "2021-09-01T14:56:14.440598Z"
    }
   },
   "outputs": [],
   "source": [
    "d"
   ]
  },
  {
   "cell_type": "code",
   "execution_count": null,
   "metadata": {
    "ExecuteTime": {
     "end_time": "2021-09-01T14:56:14.486498Z",
     "start_time": "2021-09-01T14:56:14.469328Z"
    }
   },
   "outputs": [],
   "source": [
    "# .stack() converts the innermost column index into the innermost row index\n",
    "t = d.stack() # https://medium.com/swlh/reshaping-in-pandas-with-stack-and-unstack-functions-bb169f64467d\n",
    "t = t.reset_index() # not necessary, puts the same date to each innermost row index\n",
    "t"
   ]
  },
  {
   "cell_type": "code",
   "execution_count": null,
   "metadata": {
    "ExecuteTime": {
     "end_time": "2021-09-01T14:56:14.492380Z",
     "start_time": "2021-09-01T14:56:14.488007Z"
    }
   },
   "outputs": [],
   "source": [
    "gspc = t[t[\"Symbols\"] == \"^GSPC\"]\n",
    "ixic = t[t[\"Symbols\"] == \"^IXIC\"]\n",
    "n225 = t[t[\"Symbols\"] == \"^N225\"]\n",
    "list_of_assets = [gspc, ixic, n225]"
   ]
  },
  {
   "cell_type": "code",
   "execution_count": null,
   "metadata": {
    "ExecuteTime": {
     "end_time": "2021-09-01T14:56:14.499451Z",
     "start_time": "2021-09-01T14:56:14.493610Z"
    }
   },
   "outputs": [],
   "source": [
    "for asset in list_of_assets:\n",
    "    asset[\"RoC\"] = ((asset[\"Adj Close\"] - asset[\"Adj Close\"].shift(1))/asset[\"Adj Close\"].shift(1))*100"
   ]
  },
  {
   "cell_type": "code",
   "execution_count": null,
   "metadata": {
    "ExecuteTime": {
     "end_time": "2021-09-01T14:56:14.512419Z",
     "start_time": "2021-09-01T14:56:14.500696Z"
    }
   },
   "outputs": [],
   "source": [
    "days = [5,10,20] # last week, last two weeks, last month\n",
    "\n",
    "for i in days:\n",
    "    for asset in list_of_assets:\n",
    "        column_name = f\"MA for {i} days\"\n",
    "        asset[column_name] = asset[\"Adj Close\"].rolling(window=i).mean()"
   ]
  },
  {
   "cell_type": "code",
   "execution_count": null,
   "metadata": {
    "ExecuteTime": {
     "end_time": "2021-09-01T14:56:14.520710Z",
     "start_time": "2021-09-01T14:56:14.516592Z"
    }
   },
   "outputs": [],
   "source": [
    "# bollinger bands\n",
    "def boll(closing, length, num_sd):\n",
    "    \"\"\"\n",
    "    returns average, upper band, lower band\n",
    "    \"\"\"\n",
    "    av = closing.rolling(window=length).mean()\n",
    "    sd = closing.rolling(window=length).std()\n",
    "    up = av + (num_sd*sd)\n",
    "    down = av - (num_sd*sd)\n",
    "    return np.round(down,6), np.round(av,6), np.round(up,6)"
   ]
  },
  {
   "cell_type": "code",
   "execution_count": null,
   "metadata": {
    "ExecuteTime": {
     "end_time": "2021-09-01T14:56:14.536876Z",
     "start_time": "2021-09-01T14:56:14.524224Z"
    }
   },
   "outputs": [],
   "source": [
    "length = 50\n",
    "num_sd = 2\n",
    "\n",
    "down = f\"Lower band\"\n",
    "av = f\"Middle band\"\n",
    "up = f\"Upper band\"\n",
    "\n",
    "for asset in list_of_assets:\n",
    "    asset[down], asset[av], asset[up] = boll(asset[\"Adj Close\"], \n",
    "                                             length=length, \n",
    "                                             num_sd=num_sd\n",
    "                                            )"
   ]
  },
  {
   "cell_type": "code",
   "execution_count": null,
   "metadata": {
    "ExecuteTime": {
     "end_time": "2021-09-01T14:56:15.265368Z",
     "start_time": "2021-09-01T14:56:14.538513Z"
    }
   },
   "outputs": [],
   "source": [
    "# rsi & momentum\n",
    "def rsi(values):\n",
    "    up = values[values>0].mean()\n",
    "    down = -1*values[values<0].mean()\n",
    "    return 100*up / (up + down)\n",
    "\n",
    "window = 14\n",
    "\n",
    "for asset in list_of_assets:\n",
    "    asset[\"Momentum_1D\"] = asset[\"Adj Close\"] - asset[\"Adj Close\"].shift(1)\n",
    "    asset[\"RSI_14D\"] = asset[\"Momentum_1D\"].rolling(window=window).apply(rsi)"
   ]
  },
  {
   "cell_type": "code",
   "execution_count": null,
   "metadata": {
    "ExecuteTime": {
     "end_time": "2021-09-01T14:56:15.274865Z",
     "start_time": "2021-09-01T14:56:15.266754Z"
    }
   },
   "outputs": [],
   "source": [
    "# macd\n",
    "for asset in list_of_assets:\n",
    "    asset[\"EWMA_26D\"] = asset[\"Adj Close\"].ewm(span=26).mean()\n",
    "    asset[\"EWMA_12D\"] = asset[\"Adj Close\"].ewm(span=12).mean()\n",
    "    asset[\"MACD\"] = asset[\"EWMA_12D\"] - asset[\"EWMA_26D\"]"
   ]
  },
  {
   "cell_type": "code",
   "execution_count": null,
   "metadata": {
    "ExecuteTime": {
     "end_time": "2021-09-01T14:56:15.285089Z",
     "start_time": "2021-09-01T14:56:15.276186Z"
    }
   },
   "outputs": [],
   "source": [
    "# stochastic oscillator (%K and %D)\n",
    "def stoch_osci(asset, n=10):\n",
    "    \"\"\"\n",
    "    returns the value for stochastic oscillator (%K and %D)\n",
    "    \"\"\"\n",
    "    asset[\"Stoch Osci %K/%D\"] = ((asset[\"Close\"]                                 \n",
    "                                  - asset[\"Low\"].rolling(window=n).mean()\n",
    "                                 ) /                                 \n",
    "                                 (asset[\"High\"].rolling(window=n).max()\n",
    "                                  - asset[\"Low\"].rolling(window=n).min()\n",
    "                                 )\n",
    "                                ) * 100\n",
    "\n",
    "for asset in list_of_assets:\n",
    "    stoch_osci(asset)"
   ]
  },
  {
   "cell_type": "code",
   "execution_count": null,
   "metadata": {
    "ExecuteTime": {
     "end_time": "2021-09-01T14:56:15.293755Z",
     "start_time": "2021-09-01T14:56:15.286378Z"
    }
   },
   "outputs": [],
   "source": [
    "# william's %R\n",
    "def willR(asset):\n",
    "    h = asset[\"High\"].rolling(window=window, center=False).max()\n",
    "    l = asset[\"Low\"].rolling(window=window, center=False).min()\n",
    "    asset[\"Williams %R\"] = -100*((h - asset[\"Adj Close\"])/(h - l))\n",
    "\n",
    "for asset in list_of_assets:\n",
    "    willR(asset)"
   ]
  },
  {
   "cell_type": "code",
   "execution_count": null,
   "metadata": {
    "ExecuteTime": {
     "end_time": "2021-09-01T14:56:15.300417Z",
     "start_time": "2021-09-01T14:56:15.295325Z"
    }
   },
   "outputs": [],
   "source": [
    "# aaron oscillator\n",
    "def a(data, tp = 25):\n",
    "    u = []\n",
    "    d = []\n",
    "    x = tp\n",
    "    while x < len(asset[\"Date\"]):\n",
    "        u_ = ((asset[\"High\"][x-tp:x].tolist().index(max(asset[\"High\"][x-tp:x])))/float(tp))*100\n",
    "        d_ = ((asset[\"Low\"][x-tp:x].to_list().index(max(asset[\"Low\"][x-tp:x])))/float(tp))*100\n",
    "        u.append(u_)\n",
    "        d.append(d_)\n",
    "        x+=1\n",
    "    return u,d"
   ]
  },
  {
   "cell_type": "code",
   "execution_count": null,
   "metadata": {
    "ExecuteTime": {
     "end_time": "2021-09-01T14:56:15.478955Z",
     "start_time": "2021-09-01T14:56:15.302748Z"
    }
   },
   "outputs": [],
   "source": [
    "for asset in list_of_assets:\n",
    "    zeros = [0] * 25\n",
    "    up, down = a(asset)\n",
    "    a_list = [a - b for a,b in zip(up, down)]\n",
    "    if len(a_list) == 0:\n",
    "        a_list = [0] * asset.shape[0]\n",
    "        asset[\"Aroon Oscillator\"] = a_list\n",
    "    else:\n",
    "        asset[\"Aroon Oscillator\"] = zeros + a_list"
   ]
  },
  {
   "cell_type": "code",
   "execution_count": null,
   "metadata": {
    "ExecuteTime": {
     "end_time": "2021-09-01T14:56:15.484855Z",
     "start_time": "2021-09-01T14:56:15.480450Z"
    }
   },
   "outputs": [],
   "source": [
    "def direction(x):\n",
    "    if x>0:\n",
    "        return 1.0\n",
    "    else:\n",
    "        return 0.0\n",
    "\n",
    "for asset in list_of_assets:\n",
    "    asset[\"Direction\"] = asset[\"RoC\"].apply(direction)"
   ]
  },
  {
   "cell_type": "code",
   "execution_count": null,
   "metadata": {
    "ExecuteTime": {
     "end_time": "2021-09-01T14:56:15.490097Z",
     "start_time": "2021-09-01T14:56:15.486361Z"
    }
   },
   "outputs": [],
   "source": [
    "gspc.dtypes # all columns are float64"
   ]
  },
  {
   "cell_type": "code",
   "execution_count": null,
   "metadata": {
    "ExecuteTime": {
     "end_time": "2021-09-01T14:56:15.514235Z",
     "start_time": "2021-09-01T14:56:15.491479Z"
    }
   },
   "outputs": [],
   "source": [
    "ixic"
   ]
  },
  {
   "cell_type": "code",
   "execution_count": null,
   "metadata": {
    "ExecuteTime": {
     "end_time": "2021-09-01T14:56:15.550033Z",
     "start_time": "2021-09-01T14:56:15.515974Z"
    }
   },
   "outputs": [],
   "source": [
    "gspc.fillna(\"-\", axis=1, inplace=True) # once I put \"-\" it converts data type from float64 into object\n",
    "ixic.fillna(\"-\", axis=1, inplace=True) # put this at very end so that I can work with float64\n",
    "gspc"
   ]
  },
  {
   "cell_type": "code",
   "execution_count": null,
   "metadata": {
    "ExecuteTime": {
     "end_time": "2021-09-01T14:56:15.554680Z",
     "start_time": "2021-09-01T14:56:15.551542Z"
    }
   },
   "outputs": [],
   "source": [
    "plt.style.available"
   ]
  },
  {
   "cell_type": "code",
   "execution_count": null,
   "metadata": {
    "ExecuteTime": {
     "end_time": "2021-09-01T14:56:56.779830Z",
     "start_time": "2021-09-01T14:56:56.775924Z"
    }
   },
   "outputs": [],
   "source": [
    "def p_twinx():\n",
    "    \"\"\"\n",
    "    The below code plots two lineplots on the same chart. \n",
    "    \"\"\"\n",
    "    fig, ax = plt.subplots(1,1,figsize=(15,4), constrained_layout=True)\n",
    "    ax.plot(gspc[\"Date\"], gspc[\"Adj Close\"], color=\"blue\")\n",
    "    ax.set(title=\"^GSPC\")\n",
    "\n",
    "    ax2 = ax.twinx()\n",
    "    ax2.plot(ixic[\"Date\"], ixic[\"Adj Close\"], color=\"red\")\n",
    "\n",
    "    ax.tick_params(\"y\", colors=\"blue\")\n",
    "    ax2.tick_params(\"y\", colors=\"red\")"
   ]
  },
  {
   "cell_type": "code",
   "execution_count": null,
   "metadata": {
    "ExecuteTime": {
     "end_time": "2021-09-01T14:56:56.965504Z",
     "start_time": "2021-09-01T14:56:56.963482Z"
    }
   },
   "outputs": [],
   "source": [
    "# def p():\n",
    "#     fig, (ax1, ax2, ax3) = plt.subplots(3,1,figsize=(15,10), constrained_layout=True)\n",
    "#     ax1.plot(gspc[\"Date\"], gspc[\"Adj Close\"], color=\"blue\")\n",
    "#     ax1.set(title=\"^GSPC\")\n",
    "    \n",
    "#     ax2.plot(ixic[\"Date\"], ixic[\"Adj Close\"])\n",
    "#     ax2.set(title=\"^IXIC\")\n",
    "    \n",
    "#     ax3.plot(n225[\"Date\"], n225[\"Adj Close\"])\n",
    "#     ax3.set(title=\"^N225\")\n",
    "\n",
    "#     fig.tight_layout(h_pad=2)"
   ]
  },
  {
   "cell_type": "code",
   "execution_count": null,
   "metadata": {
    "ExecuteTime": {
     "end_time": "2021-09-01T14:56:58.177759Z",
     "start_time": "2021-09-01T14:56:57.189730Z"
    }
   },
   "outputs": [],
   "source": [
    "# used for local change only, rcParams used for global change\n",
    "with plt.style.context(\"seaborn-ticks\"):\n",
    "    p_twinx()"
   ]
  },
  {
   "cell_type": "code",
   "execution_count": null,
   "metadata": {
    "ExecuteTime": {
     "end_time": "2021-09-01T14:56:16.782791Z",
     "start_time": "2021-09-01T14:56:16.781097Z"
    }
   },
   "outputs": [],
   "source": [
    "# # high c/high gamma overfitting\n",
    "# # low c/low gamma underfitting\n",
    "\n",
    "# # data pre-processing\n",
    "# X = df.iloc[:,0:5]\n",
    "# y = df.iloc[:,-1]\n",
    "\n",
    "# # MinMaxScaler\n",
    "# scaler = MinMaxScaler()\n",
    "# df = scaler.fit_transform(df)"
   ]
  },
  {
   "cell_type": "code",
   "execution_count": null,
   "metadata": {
    "ExecuteTime": {
     "end_time": "2021-09-01T09:37:07.557479Z",
     "start_time": "2021-09-01T09:37:06.190Z"
    }
   },
   "outputs": [],
   "source": [
    "# X_train, X_test, y_train, y_test = train_test_split(X, y, test_size=0.2, random_state=42)\n",
    "\n",
    "# X_train = np.array(X_train)\n",
    "# y_train = np.array(y_train)\n",
    "# X_test = np.array(X_test)\n",
    "# y_test = np.array(y_test)\n",
    "\n",
    "# # train the model\n",
    "# svm = SVC(C=1.0, kernel=\"linear\", gamma=\"scale\")\n",
    "# svm.fit(X_train, y_train)\n",
    "\n",
    "# # prediction\n",
    "# pred = svm.predict(X_test)\n",
    "# pred\n",
    "\n",
    "# # classification report and confusion matrix\n",
    "\n",
    "# print(\"Classification report:\")\n",
    "# print(classification_report(y_test, pred))\n",
    "\n",
    "# print(\"Confusion Matrix:\")\n",
    "# print(confusion_matrix(y_test, pred))\n",
    "\n",
    "# print(\"Accuracy score:\")\n",
    "# print(accuracy_score(y_test, pred).round(2))"
   ]
  },
  {
   "cell_type": "code",
   "execution_count": null,
   "metadata": {
    "ExecuteTime": {
     "end_time": "2021-09-01T09:21:54.052407Z",
     "start_time": "2021-09-01T09:21:54.050735Z"
    }
   },
   "outputs": [],
   "source": [
    "# low gamma considers further away points to fit a hyperplane\n",
    "# high gamma considers only close points to fit a hyperplane (prone to overfitting)\n",
    "# too much emphasis on close points and not much on further away points - high gamma\n",
    "\n",
    "# gridsearchcv\n",
    "# param_grid = {\"C\":[0.1,1,10,100,1000], \"gamma\":[1,0.1,0.01,0.001], \"kernel\":[\"rbf\", \"poly\", \"sigmoid\"]}\n",
    "# svm_grid = GridSearchCV(SVC(), param_grid, refit=True, verbose=2)\n",
    "# # verbose just shows how much of text output during calculation to display\n",
    "\n",
    "# svm_grid.fit(X_train, y_train)\n",
    "# svm_grid.best_params_"
   ]
  },
  {
   "cell_type": "code",
   "execution_count": null,
   "metadata": {
    "ExecuteTime": {
     "end_time": "2021-09-01T09:21:54.055655Z",
     "start_time": "2021-09-01T09:21:54.053754Z"
    }
   },
   "outputs": [],
   "source": [
    "# # prediction with gridsearchcv (then classification report/confusion matrix)/accuracy score\n",
    "# svm_grid_pred = svm_grid.predict(X_test)\n",
    "\n",
    "# print(\"Classification report:\")\n",
    "# print(classification_report(y_test, svm_grid_pred))\n",
    "\n",
    "# print(\"Confusion Matrix:\")\n",
    "# print(confusion_matrix(y_test, svm_grid_pred))\n",
    "\n",
    "# print(\"Accuracy score:\")\n",
    "# print(accuracy_score(y_test, svm_grid_pred).round(2))"
   ]
  },
  {
   "cell_type": "code",
   "execution_count": null,
   "metadata": {},
   "outputs": [],
   "source": []
  }
 ],
 "metadata": {
  "kernelspec": {
   "display_name": "Python 3",
   "language": "python",
   "name": "python3"
  },
  "language_info": {
   "codemirror_mode": {
    "name": "ipython",
    "version": 3
   },
   "file_extension": ".py",
   "mimetype": "text/x-python",
   "name": "python",
   "nbconvert_exporter": "python",
   "pygments_lexer": "ipython3",
   "version": "3.8.5"
  },
  "toc": {
   "base_numbering": 1,
   "nav_menu": {},
   "number_sections": true,
   "sideBar": true,
   "skip_h1_title": false,
   "title_cell": "Table of Contents",
   "title_sidebar": "Contents",
   "toc_cell": false,
   "toc_position": {},
   "toc_section_display": true,
   "toc_window_display": false
  }
 },
 "nbformat": 4,
 "nbformat_minor": 4
}
