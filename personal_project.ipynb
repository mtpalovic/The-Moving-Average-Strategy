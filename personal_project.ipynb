{
 "cells": [
  {
   "cell_type": "markdown",
   "metadata": {},
   "source": [
    "Install the dependencies"
   ]
  },
  {
   "cell_type": "code",
   "execution_count": null,
   "metadata": {
    "ExecuteTime": {
     "end_time": "2021-08-30T18:14:36.102722Z",
     "start_time": "2021-08-30T18:14:33.813325Z"
    },
    "code_folding": []
   },
   "outputs": [],
   "source": [
    "import numpy as np\n",
    "import pandas as pd\n",
    "import pandas_ta as ta # pandas technical analysis\n",
    "import pandas_datareader.data as web\n",
    "import matplotlib.pyplot as plt\n",
    "plt.style.use(\"fivethirtyeight\") # plt.style.available[:] gives list of all available stylesheets\n",
    "%matplotlib inline\n",
    "import seaborn as sns\n",
    "# import datetime as dt\n",
    "from datetime import datetime\n",
    "\n",
    "import yfinance as yf # as a means to access yahoo finance data\n",
    "\n",
    "from sklearn.tree import DecisionTreeRegressor\n",
    "from sklearn.preprocessing import MinMaxScaler\n",
    "from sklearn.model_selection import train_test_split\n",
    "from sklearn.linear_model import LinearRegression\n",
    "\n",
    "from sklearn.svm import SVC # svm\n",
    "from sklearn.metrics import classification_report, confusion_matrix, mean_squared_error, accuracy_score\n",
    "from sklearn.model_selection import GridSearchCV # c, gamma parameter optimisation\n",
    "\n",
    "plt.rcParams[\"font.size\"] = 11 # rc refers to run commands\n",
    "plt.rcParams[\"figure.facecolor\"] = \"#000080\"\n",
    "sns.set_style(\"darkgrid\")\n",
    "\n",
    "import warnings # ignore warnings\n",
    "warnings.filterwarnings('ignore')"
   ]
  },
  {
   "cell_type": "code",
   "execution_count": null,
   "metadata": {
    "ExecuteTime": {
     "end_time": "2021-08-30T18:14:39.652448Z",
     "start_time": "2021-08-30T18:14:36.104763Z"
    }
   },
   "outputs": [],
   "source": [
    "end = datetime.today()\n",
    "start = datetime(end.year-2, end.month, end.day)\n",
    "\n",
    "list_of_tickers = [\"^GSPC\", \"^IXIC\"] # add tickers here\n",
    "data = web.DataReader(list_of_tickers, 'yahoo', start, end)\n",
    "ticker = data.stack().reset_index()"
   ]
  },
  {
   "cell_type": "code",
   "execution_count": null,
   "metadata": {
    "ExecuteTime": {
     "end_time": "2021-08-30T18:14:39.658832Z",
     "start_time": "2021-08-30T18:14:39.654808Z"
    }
   },
   "outputs": [],
   "source": [
    "gspc = ticker[ticker[\"Symbols\"] == \"^GSPC\"]\n",
    "ixic = ticker[ticker[\"Symbols\"] == \"^IXIC\"]\n",
    "\n",
    "list_of_assets = [gspc, ixic]"
   ]
  },
  {
   "cell_type": "code",
   "execution_count": null,
   "metadata": {
    "ExecuteTime": {
     "end_time": "2021-08-30T18:14:39.666534Z",
     "start_time": "2021-08-30T18:14:39.661159Z"
    }
   },
   "outputs": [],
   "source": [
    "for asset in list_of_assets:\n",
    "    asset[\"RoC\"] = ((asset[\"Adj Close\"] - asset[\"Adj Close\"].shift(30))/asset[\"Adj Close\"].shift(30))*100"
   ]
  },
  {
   "cell_type": "code",
   "execution_count": null,
   "metadata": {
    "ExecuteTime": {
     "end_time": "2021-08-30T18:14:39.676350Z",
     "start_time": "2021-08-30T18:14:39.668220Z"
    }
   },
   "outputs": [],
   "source": [
    "days = [5,50,100,200]\n",
    "\n",
    "for i in days:\n",
    "    for asset in list_of_assets:\n",
    "        column_name = f\"MA for {i} days\"\n",
    "        asset[column_name] = asset[\"Adj Close\"].rolling(window=i).mean()"
   ]
  },
  {
   "cell_type": "code",
   "execution_count": null,
   "metadata": {
    "ExecuteTime": {
     "end_time": "2021-08-30T18:14:39.684030Z",
     "start_time": "2021-08-30T18:14:39.678697Z"
    }
   },
   "outputs": [],
   "source": [
    "# bollinger bands\n",
    "def boll(closing, length, num_sd):\n",
    "    \"\"\"\n",
    "    returns average, upper band, lower band\n",
    "    \"\"\"\n",
    "    av = closing.rolling(window=length).mean()\n",
    "    sd = closing.rolling(window=length).std()\n",
    "    up = av + (num_sd*sd)\n",
    "    down = av - (num_sd*sd)\n",
    "    return np.round(down,6), np.round(av,6), np.round(up,6)"
   ]
  },
  {
   "cell_type": "code",
   "execution_count": null,
   "metadata": {
    "ExecuteTime": {
     "end_time": "2021-08-30T18:14:39.695924Z",
     "start_time": "2021-08-30T18:14:39.685990Z"
    }
   },
   "outputs": [],
   "source": [
    "length = 50\n",
    "num_sd = 2\n",
    "\n",
    "down = f\"Lower band\"\n",
    "av = f\"Middle band\"\n",
    "up = f\"Upper band\"\n",
    "\n",
    "for asset in list_of_assets:\n",
    "    asset[down], asset[av], asset[up] = boll(asset[\"Adj Close\"], \n",
    "                                             length=length, \n",
    "                                             num_sd=num_sd\n",
    "                                            )"
   ]
  },
  {
   "cell_type": "code",
   "execution_count": null,
   "metadata": {
    "ExecuteTime": {
     "end_time": "2021-08-30T18:14:40.167893Z",
     "start_time": "2021-08-30T18:14:39.699588Z"
    }
   },
   "outputs": [],
   "source": [
    "# rsi & momentum\n",
    "def rsi(values):\n",
    "    up = values[values>0].mean()\n",
    "    down = -1*values[values<0].mean()\n",
    "    return 100*up / (up + down)\n",
    "\n",
    "window = 14\n",
    "\n",
    "for asset in list_of_assets:\n",
    "    asset[\"Momentum_1D\"] = asset[\"Adj Close\"] - asset[\"Adj Close\"].shift(1)\n",
    "    asset[\"RSI_14D\"] = asset[\"Momentum_1D\"].rolling(window=window).apply(rsi)"
   ]
  },
  {
   "cell_type": "code",
   "execution_count": null,
   "metadata": {
    "ExecuteTime": {
     "end_time": "2021-08-30T18:14:40.176801Z",
     "start_time": "2021-08-30T18:14:40.170035Z"
    }
   },
   "outputs": [],
   "source": [
    "# macd\n",
    "for asset in list_of_assets:\n",
    "    asset[\"EWMA_26D\"] = asset[\"Adj Close\"].ewm(span=26).mean()\n",
    "    asset[\"EWMA_12D\"] = asset[\"Adj Close\"].ewm(span=12).mean()\n",
    "    asset[\"MACD\"] = asset[\"EWMA_12D\"] - asset[\"EWMA_26D\"]"
   ]
  },
  {
   "cell_type": "code",
   "execution_count": null,
   "metadata": {
    "ExecuteTime": {
     "end_time": "2021-08-30T18:14:40.185730Z",
     "start_time": "2021-08-30T18:14:40.178238Z"
    }
   },
   "outputs": [],
   "source": [
    "# stochastic oscillator (%K and %D)\n",
    "def stoch_osci(asset, n=10):\n",
    "    \"\"\"\n",
    "    returns the value for stochastic oscillator (%K and %D)\n",
    "    \"\"\"\n",
    "    asset[\"Stoch Osci %K/%D\"] = ((asset[\"Close\"]                                 \n",
    "                                  - asset[\"Low\"].rolling(window=n).mean()\n",
    "                                 ) /                                 \n",
    "                                 (asset[\"High\"].rolling(window=n).max()\n",
    "                                  - asset[\"Low\"].rolling(window=n).min()\n",
    "                                 )\n",
    "                                ) * 100\n",
    "\n",
    "for asset in list_of_assets:\n",
    "    stoch_osci(asset)"
   ]
  },
  {
   "cell_type": "code",
   "execution_count": null,
   "metadata": {
    "ExecuteTime": {
     "end_time": "2021-08-30T18:14:40.194440Z",
     "start_time": "2021-08-30T18:14:40.187129Z"
    }
   },
   "outputs": [],
   "source": [
    "# william's %R\n",
    "def willR(asset):\n",
    "    h = asset[\"High\"].rolling(window=window, center=False).max()\n",
    "    l = asset[\"Low\"].rolling(window=window, center=False).min()\n",
    "    asset[\"Williams %R\"] = -100*((h - asset[\"Adj Close\"])/(h - l))\n",
    "\n",
    "for asset in list_of_assets:\n",
    "    willR(asset)"
   ]
  },
  {
   "cell_type": "code",
   "execution_count": null,
   "metadata": {
    "ExecuteTime": {
     "end_time": "2021-08-30T18:34:14.851578Z",
     "start_time": "2021-08-30T18:34:14.847176Z"
    }
   },
   "outputs": [],
   "source": [
    "# aaron oscillator\n",
    "def a(data, tp = 25):\n",
    "    u = []\n",
    "    d = []\n",
    "    x = tp\n",
    "    while x < len(asset[\"Date\"]):\n",
    "        u_ = ((asset[\"High\"][x-tp:x].tolist().index(max(asset[\"High\"][x-tp:x])))/float(tp))*100\n",
    "        d_ = ((asset[\"Low\"][x-tp:x].to_list().index(max(asset[\"Low\"][x-tp:x])))/float(tp))*100\n",
    "        u.append(u_)\n",
    "        d.append(d_)\n",
    "        x+=1\n",
    "    return u,d"
   ]
  },
  {
   "cell_type": "code",
   "execution_count": null,
   "metadata": {
    "ExecuteTime": {
     "end_time": "2021-08-30T18:34:15.749034Z",
     "start_time": "2021-08-30T18:34:15.626685Z"
    }
   },
   "outputs": [],
   "source": [
    "for asset in list_of_assets:\n",
    "    zeros = [0] * 25\n",
    "    up, down = a(asset)\n",
    "    a_list = [a - b for a,b in zip(up, down)]\n",
    "    if len(a_list) == 0:\n",
    "        a_list = [0] * asset.shape[0]\n",
    "        asset[\"Aroon Oscillator\"] = a_list\n",
    "    else:\n",
    "        asset[\"Aroon Oscillator\"] = zeros + a_list"
   ]
  },
  {
   "cell_type": "code",
   "execution_count": null,
   "metadata": {
    "ExecuteTime": {
     "end_time": "2021-08-30T18:34:19.158859Z",
     "start_time": "2021-08-30T18:34:19.151733Z"
    }
   },
   "outputs": [],
   "source": [
    "def direction(x):\n",
    "    if x>0:\n",
    "        return 1.0\n",
    "    else:\n",
    "        return 0.0\n",
    "\n",
    "for asset in list_of_assets:\n",
    "    asset[\"Returns\"] = ((asset[\"Adj Close\"]/asset[\"Adj Close\"].shift(1))-1)*100\n",
    "    asset[\"Direction\"] = asset[\"Returns\"].apply(direction)"
   ]
  },
  {
   "cell_type": "code",
   "execution_count": null,
   "metadata": {
    "ExecuteTime": {
     "end_time": "2021-08-30T18:34:19.529097Z",
     "start_time": "2021-08-30T18:34:19.523803Z"
    }
   },
   "outputs": [],
   "source": [
    "gspc.dtypes # all columns are float64"
   ]
  },
  {
   "cell_type": "code",
   "execution_count": null,
   "metadata": {
    "ExecuteTime": {
     "end_time": "2021-08-30T18:34:26.783418Z",
     "start_time": "2021-08-30T18:34:26.781467Z"
    }
   },
   "outputs": [],
   "source": [
    "# drop columns\n",
    "# columns_drop = [\"Returns\", \"RoC\"]\n",
    "# for asset in list_of_assets:\n",
    "#     asset = asset.drop(columns=columns_drop, axis=1, inplace=True)"
   ]
  },
  {
   "cell_type": "code",
   "execution_count": null,
   "metadata": {
    "ExecuteTime": {
     "end_time": "2021-08-30T18:35:57.771080Z",
     "start_time": "2021-08-30T18:35:57.734077Z"
    }
   },
   "outputs": [],
   "source": [
    "gspc.fillna(\"-\", axis=1, inplace=True) # once I put \"-\" it converts data type from float64 into object\n",
    "ixic.fillna(\"-\", axis=1, inplace=True) # put this at very end so that I can work with float64\n",
    "ixic"
   ]
  },
  {
   "cell_type": "code",
   "execution_count": null,
   "metadata": {
    "ExecuteTime": {
     "end_time": "2021-08-30T18:15:10.843881Z",
     "start_time": "2021-08-30T18:15:10.839342Z"
    }
   },
   "outputs": [],
   "source": [
    "gspc.dtypes # columns with \"-\" instead of NaNs are now objects"
   ]
  },
  {
   "cell_type": "code",
   "execution_count": null,
   "metadata": {
    "ExecuteTime": {
     "end_time": "2021-08-29T10:57:29.207559Z",
     "start_time": "2021-08-29T10:57:28.201Z"
    }
   },
   "outputs": [],
   "source": [
    "# plt.figure(figsize=(15,10))\n",
    "\n",
    "# for i, j in enumerate(list_of_assets, 1):\n",
    "#     plt.subplot(2,1,i)\n",
    "#     j[\"Volume\"].plot()\n",
    "#     plt.xlabel(\"Date\")\n",
    "#     plt.ylabel(\"Adj Close\")\n",
    "#     plt.title(f\"Closing price of {list_of_tickers[i-1]}\")\n",
    "# plt.tight_layout()"
   ]
  },
  {
   "cell_type": "code",
   "execution_count": null,
   "metadata": {
    "ExecuteTime": {
     "end_time": "2021-08-29T10:57:29.208669Z",
     "start_time": "2021-08-29T10:57:28.578Z"
    }
   },
   "outputs": [],
   "source": [
    "# # high c/high gamma overfitting\n",
    "# # low c/low gamma underfitting\n",
    "\n",
    "# # data pre-processing\n",
    "# X = df.iloc[:,0:5]\n",
    "# y = df.iloc[:,-1]\n",
    "\n",
    "# # MinMaxScaler\n",
    "# scaler = MinMaxScaler()\n",
    "# df = scaler.fit_transform(df)"
   ]
  },
  {
   "cell_type": "code",
   "execution_count": null,
   "metadata": {
    "ExecuteTime": {
     "start_time": "2021-08-18T03:19:55.037Z"
    }
   },
   "outputs": [],
   "source": [
    "# X_train, X_test, y_train, y_test = train_test_split(X, y, test_size=0.2, random_state=42)\n",
    "\n",
    "# X_train = np.array(X_train)\n",
    "# y_train = np.array(y_train)\n",
    "# X_test = np.array(X_test)\n",
    "# y_test = np.array(y_test)\n",
    "\n",
    "# # train the model\n",
    "# svm = SVC(C=1.0, kernel=\"linear\", gamma=\"scale\")\n",
    "# svm.fit(X_train, y_train)\n",
    "\n",
    "# # prediction\n",
    "# pred = svm.predict(X_test)\n",
    "# pred\n",
    "\n",
    "# # classification report and confusion matrix\n",
    "\n",
    "# print(\"Classification report:\")\n",
    "# print(classification_report(y_test, pred))\n",
    "\n",
    "# print(\"Confusion Matrix:\")\n",
    "# print(confusion_matrix(y_test, pred))\n",
    "\n",
    "# print(\"Accuracy score:\")\n",
    "# print(accuracy_score(y_test, pred).round(2))"
   ]
  },
  {
   "cell_type": "code",
   "execution_count": null,
   "metadata": {
    "ExecuteTime": {
     "start_time": "2021-08-18T03:19:55.713Z"
    }
   },
   "outputs": [],
   "source": [
    "# low gamma considers further away points to fit a hyperplane\n",
    "# high gamma considers only close points to fit a hyperplane (prone to overfitting)\n",
    "# too much emphasis on close points and not much on further away points - high gamma\n",
    "\n",
    "# gridsearchcv\n",
    "# param_grid = {\"C\":[0.1,1,10,100,1000], \"gamma\":[1,0.1,0.01,0.001], \"kernel\":[\"rbf\", \"poly\", \"sigmoid\"]}\n",
    "# svm_grid = GridSearchCV(SVC(), param_grid, refit=True, verbose=2)\n",
    "# # verbose just shows how much of text output during calculation to display\n",
    "\n",
    "# svm_grid.fit(X_train, y_train)\n",
    "# svm_grid.best_params_"
   ]
  },
  {
   "cell_type": "code",
   "execution_count": null,
   "metadata": {
    "ExecuteTime": {
     "start_time": "2021-08-18T03:19:56.530Z"
    }
   },
   "outputs": [],
   "source": [
    "# # prediction with gridsearchcv (then classification report/confusion matrix)/accuracy score\n",
    "# svm_grid_pred = svm_grid.predict(X_test)\n",
    "\n",
    "# print(\"Classification report:\")\n",
    "# print(classification_report(y_test, svm_grid_pred))\n",
    "\n",
    "# print(\"Confusion Matrix:\")\n",
    "# print(confusion_matrix(y_test, svm_grid_pred))\n",
    "\n",
    "# print(\"Accuracy score:\")\n",
    "# print(accuracy_score(y_test, svm_grid_pred).round(2))"
   ]
  }
 ],
 "metadata": {
  "kernelspec": {
   "display_name": "Python 3",
   "language": "python",
   "name": "python3"
  },
  "language_info": {
   "codemirror_mode": {
    "name": "ipython",
    "version": 3
   },
   "file_extension": ".py",
   "mimetype": "text/x-python",
   "name": "python",
   "nbconvert_exporter": "python",
   "pygments_lexer": "ipython3",
   "version": "3.8.5"
  },
  "toc": {
   "base_numbering": 1,
   "nav_menu": {},
   "number_sections": true,
   "sideBar": true,
   "skip_h1_title": false,
   "title_cell": "Table of Contents",
   "title_sidebar": "Contents",
   "toc_cell": false,
   "toc_position": {},
   "toc_section_display": true,
   "toc_window_display": false
  }
 },
 "nbformat": 4,
 "nbformat_minor": 4
}
