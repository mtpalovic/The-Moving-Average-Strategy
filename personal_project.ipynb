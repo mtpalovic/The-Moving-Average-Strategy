{
 "cells": [
  {
   "cell_type": "markdown",
   "metadata": {},
   "source": [
    "Install the dependencies"
   ]
  },
  {
   "cell_type": "code",
   "execution_count": 1,
   "metadata": {
    "ExecuteTime": {
     "end_time": "2021-08-18T04:30:19.697783Z",
     "start_time": "2021-08-18T04:30:17.792697Z"
    },
    "code_folding": []
   },
   "outputs": [],
   "source": [
    "import numpy as np\n",
    "import pandas as pd\n",
    "import pandas_ta as ta # pandas technical analysis\n",
    "import pandas_datareader.data as web\n",
    "import matplotlib.pyplot as plt\n",
    "plt.style.use(\"ggplot\") # plt.style.available[:] gives list of all available stylesheets\n",
    "%matplotlib inline\n",
    "import seaborn as sns\n",
    "import datetime as dt\n",
    "\n",
    "import yfinance as yf # as a means to access yahoo finance data\n",
    "\n",
    "from sklearn.tree import DecisionTreeRegressor\n",
    "from sklearn.preprocessing import MinMaxScaler\n",
    "from sklearn.model_selection import train_test_split\n",
    "from sklearn.linear_model import LinearRegression\n",
    "\n",
    "from sklearn.svm import SVC # svm\n",
    "from sklearn.metrics import classification_report, confusion_matrix, mean_squared_error, accuracy_score\n",
    "from sklearn.model_selection import GridSearchCV # c, gamma parameter optimisation\n",
    "\n",
    "plt.rcParams[\"font.size\"] = 11 # rc refers to run commands\n",
    "plt.rcParams[\"figure.facecolor\"] = \"#000080\"\n",
    "sns.set_style(\"darkgrid\")\n",
    "\n",
    "import warnings # ignores warnings\n",
    "warnings.filterwarnings('ignore')"
   ]
  },
  {
   "cell_type": "code",
   "execution_count": 2,
   "metadata": {
    "ExecuteTime": {
     "end_time": "2021-08-18T04:30:20.936936Z",
     "start_time": "2021-08-18T04:30:19.699783Z"
    }
   },
   "outputs": [],
   "source": [
    "end = dt.datetime.today()\n",
    "start = dt.datetime(end.year-2, end.month, end.day)\n",
    "spx = web.DataReader(\"^GSPC\", \"yahoo\", start, end) #s&p500\n",
    "ixic = web.DataReader(\"^IXIC\", \"yahoo\", start, end) #nasdaq"
   ]
  },
  {
   "cell_type": "code",
   "execution_count": 3,
   "metadata": {
    "ExecuteTime": {
     "end_time": "2021-08-18T04:30:20.945695Z",
     "start_time": "2021-08-18T04:30:20.938957Z"
    }
   },
   "outputs": [],
   "source": [
    "# moving average\n",
    "days = [10,20,50]\n",
    "for i in days: \n",
    "    column = f\"MA for {i} days\"\n",
    "    spx[column] = spx[\"Adj Close\"].rolling(window=i).mean()"
   ]
  },
  {
   "cell_type": "code",
   "execution_count": 4,
   "metadata": {
    "ExecuteTime": {
     "end_time": "2021-08-18T04:30:22.534334Z",
     "start_time": "2021-08-18T04:30:22.528864Z"
    }
   },
   "outputs": [
    {
     "data": {
      "text/plain": [
       "Index(['High', 'Low', 'Open', 'Close', 'Volume', 'Adj Close', 'MA for 10 days',\n",
       "       'MA for 20 days', 'MA for 50 days'],\n",
       "      dtype='object')"
      ]
     },
     "execution_count": 4,
     "metadata": {},
     "output_type": "execute_result"
    }
   ],
   "source": [
    "spx = pd.DataFrame(spx)\n",
    "spx.columns"
   ]
  },
  {
   "cell_type": "code",
   "execution_count": 9,
   "metadata": {
    "ExecuteTime": {
     "end_time": "2021-08-18T04:31:21.752948Z",
     "start_time": "2021-08-18T04:31:21.749045Z"
    }
   },
   "outputs": [],
   "source": [
    "# bollinger bands\n",
    "length = 50\n",
    "num_sd = 2\n",
    "def boll(closing, length, num_sd):\n",
    "    \"\"\"\n",
    "    returns average, upper band, lower band\n",
    "    \"\"\"\n",
    "    av = closing.rolling(window=length).mean()\n",
    "    sd = closing.rolling(window=length).std()\n",
    "    up = av + (num_sd*sd)\n",
    "    down = av - (num_sd*sd)\n",
    "    return np.round(down,6), np.round(av,6), np.round(up,6)"
   ]
  },
  {
   "cell_type": "code",
   "execution_count": 10,
   "metadata": {
    "ExecuteTime": {
     "end_time": "2021-08-18T04:31:22.109730Z",
     "start_time": "2021-08-18T04:31:22.087981Z"
    }
   },
   "outputs": [
    {
     "data": {
      "text/html": [
       "<div>\n",
       "<style scoped>\n",
       "    .dataframe tbody tr th:only-of-type {\n",
       "        vertical-align: middle;\n",
       "    }\n",
       "\n",
       "    .dataframe tbody tr th {\n",
       "        vertical-align: top;\n",
       "    }\n",
       "\n",
       "    .dataframe thead th {\n",
       "        text-align: right;\n",
       "    }\n",
       "</style>\n",
       "<table border=\"1\" class=\"dataframe\">\n",
       "  <thead>\n",
       "    <tr style=\"text-align: right;\">\n",
       "      <th></th>\n",
       "      <th>High</th>\n",
       "      <th>Low</th>\n",
       "      <th>Open</th>\n",
       "      <th>Close</th>\n",
       "      <th>Volume</th>\n",
       "      <th>Adj Close</th>\n",
       "      <th>MA for 10 days</th>\n",
       "      <th>MA for 20 days</th>\n",
       "      <th>MA for 50 days</th>\n",
       "      <th>Lower band</th>\n",
       "      <th>Middle band</th>\n",
       "      <th>Upper band</th>\n",
       "    </tr>\n",
       "    <tr>\n",
       "      <th>Date</th>\n",
       "      <th></th>\n",
       "      <th></th>\n",
       "      <th></th>\n",
       "      <th></th>\n",
       "      <th></th>\n",
       "      <th></th>\n",
       "      <th></th>\n",
       "      <th></th>\n",
       "      <th></th>\n",
       "      <th></th>\n",
       "      <th></th>\n",
       "      <th></th>\n",
       "    </tr>\n",
       "  </thead>\n",
       "  <tbody>\n",
       "    <tr>\n",
       "      <th>2019-08-19</th>\n",
       "      <td>2931.000000</td>\n",
       "      <td>2913.479980</td>\n",
       "      <td>2913.479980</td>\n",
       "      <td>2923.649902</td>\n",
       "      <td>3212880000</td>\n",
       "      <td>2923.649902</td>\n",
       "      <td>NaN</td>\n",
       "      <td>NaN</td>\n",
       "      <td>NaN</td>\n",
       "      <td>NaN</td>\n",
       "      <td>NaN</td>\n",
       "      <td>NaN</td>\n",
       "    </tr>\n",
       "    <tr>\n",
       "      <th>2019-08-20</th>\n",
       "      <td>2923.629883</td>\n",
       "      <td>2899.600098</td>\n",
       "      <td>2919.010010</td>\n",
       "      <td>2900.510010</td>\n",
       "      <td>3066300000</td>\n",
       "      <td>2900.510010</td>\n",
       "      <td>NaN</td>\n",
       "      <td>NaN</td>\n",
       "      <td>NaN</td>\n",
       "      <td>NaN</td>\n",
       "      <td>NaN</td>\n",
       "      <td>NaN</td>\n",
       "    </tr>\n",
       "    <tr>\n",
       "      <th>2019-08-21</th>\n",
       "      <td>2928.729980</td>\n",
       "      <td>2917.909912</td>\n",
       "      <td>2922.040039</td>\n",
       "      <td>2924.429932</td>\n",
       "      <td>3011190000</td>\n",
       "      <td>2924.429932</td>\n",
       "      <td>NaN</td>\n",
       "      <td>NaN</td>\n",
       "      <td>NaN</td>\n",
       "      <td>NaN</td>\n",
       "      <td>NaN</td>\n",
       "      <td>NaN</td>\n",
       "    </tr>\n",
       "    <tr>\n",
       "      <th>2019-08-22</th>\n",
       "      <td>2939.080078</td>\n",
       "      <td>2904.510010</td>\n",
       "      <td>2930.939941</td>\n",
       "      <td>2922.949951</td>\n",
       "      <td>2890880000</td>\n",
       "      <td>2922.949951</td>\n",
       "      <td>NaN</td>\n",
       "      <td>NaN</td>\n",
       "      <td>NaN</td>\n",
       "      <td>NaN</td>\n",
       "      <td>NaN</td>\n",
       "      <td>NaN</td>\n",
       "    </tr>\n",
       "    <tr>\n",
       "      <th>2019-08-23</th>\n",
       "      <td>2927.010010</td>\n",
       "      <td>2834.969971</td>\n",
       "      <td>2911.070068</td>\n",
       "      <td>2847.110107</td>\n",
       "      <td>3937300000</td>\n",
       "      <td>2847.110107</td>\n",
       "      <td>NaN</td>\n",
       "      <td>NaN</td>\n",
       "      <td>NaN</td>\n",
       "      <td>NaN</td>\n",
       "      <td>NaN</td>\n",
       "      <td>NaN</td>\n",
       "    </tr>\n",
       "    <tr>\n",
       "      <th>...</th>\n",
       "      <td>...</td>\n",
       "      <td>...</td>\n",
       "      <td>...</td>\n",
       "      <td>...</td>\n",
       "      <td>...</td>\n",
       "      <td>...</td>\n",
       "      <td>...</td>\n",
       "      <td>...</td>\n",
       "      <td>...</td>\n",
       "      <td>...</td>\n",
       "      <td>...</td>\n",
       "      <td>...</td>\n",
       "    </tr>\n",
       "    <tr>\n",
       "      <th>2021-08-11</th>\n",
       "      <td>4449.439941</td>\n",
       "      <td>4436.419922</td>\n",
       "      <td>4442.180176</td>\n",
       "      <td>4442.410156</td>\n",
       "      <td>2803060000</td>\n",
       "      <td>4442.410156</td>\n",
       "      <td>4420.451025</td>\n",
       "      <td>4391.780518</td>\n",
       "      <td>4321.455986</td>\n",
       "      <td>4160.936834</td>\n",
       "      <td>4321.455986</td>\n",
       "      <td>4481.975139</td>\n",
       "    </tr>\n",
       "    <tr>\n",
       "      <th>2021-08-12</th>\n",
       "      <td>4461.770020</td>\n",
       "      <td>4435.959961</td>\n",
       "      <td>4446.080078</td>\n",
       "      <td>4460.830078</td>\n",
       "      <td>2543860000</td>\n",
       "      <td>4460.830078</td>\n",
       "      <td>4424.619043</td>\n",
       "      <td>4396.820532</td>\n",
       "      <td>4326.510186</td>\n",
       "      <td>4164.648251</td>\n",
       "      <td>4326.510186</td>\n",
       "      <td>4488.372120</td>\n",
       "    </tr>\n",
       "    <tr>\n",
       "      <th>2021-08-13</th>\n",
       "      <td>4468.370117</td>\n",
       "      <td>4460.819824</td>\n",
       "      <td>4464.839844</td>\n",
       "      <td>4468.000000</td>\n",
       "      <td>2371630000</td>\n",
       "      <td>4468.000000</td>\n",
       "      <td>4431.893066</td>\n",
       "      <td>4403.862524</td>\n",
       "      <td>4332.013184</td>\n",
       "      <td>4169.989892</td>\n",
       "      <td>4332.013184</td>\n",
       "      <td>4494.036475</td>\n",
       "    </tr>\n",
       "    <tr>\n",
       "      <th>2021-08-16</th>\n",
       "      <td>4473.259766</td>\n",
       "      <td>4437.660156</td>\n",
       "      <td>4461.649902</td>\n",
       "      <td>4472.939941</td>\n",
       "      <td>2707170000</td>\n",
       "      <td>4472.939941</td>\n",
       "      <td>4440.471045</td>\n",
       "      <td>4414.585010</td>\n",
       "      <td>4336.874180</td>\n",
       "      <td>4172.785796</td>\n",
       "      <td>4336.874180</td>\n",
       "      <td>4500.962563</td>\n",
       "    </tr>\n",
       "    <tr>\n",
       "      <th>2021-08-17</th>\n",
       "      <td>4462.120117</td>\n",
       "      <td>4417.830078</td>\n",
       "      <td>4462.120117</td>\n",
       "      <td>4448.080078</td>\n",
       "      <td>2884000000</td>\n",
       "      <td>4448.080078</td>\n",
       "      <td>4442.964063</td>\n",
       "      <td>4420.836011</td>\n",
       "      <td>4341.305381</td>\n",
       "      <td>4177.414388</td>\n",
       "      <td>4341.305381</td>\n",
       "      <td>4505.196373</td>\n",
       "    </tr>\n",
       "  </tbody>\n",
       "</table>\n",
       "<p>504 rows × 12 columns</p>\n",
       "</div>"
      ],
      "text/plain": [
       "                   High          Low         Open        Close      Volume  \\\n",
       "Date                                                                         \n",
       "2019-08-19  2931.000000  2913.479980  2913.479980  2923.649902  3212880000   \n",
       "2019-08-20  2923.629883  2899.600098  2919.010010  2900.510010  3066300000   \n",
       "2019-08-21  2928.729980  2917.909912  2922.040039  2924.429932  3011190000   \n",
       "2019-08-22  2939.080078  2904.510010  2930.939941  2922.949951  2890880000   \n",
       "2019-08-23  2927.010010  2834.969971  2911.070068  2847.110107  3937300000   \n",
       "...                 ...          ...          ...          ...         ...   \n",
       "2021-08-11  4449.439941  4436.419922  4442.180176  4442.410156  2803060000   \n",
       "2021-08-12  4461.770020  4435.959961  4446.080078  4460.830078  2543860000   \n",
       "2021-08-13  4468.370117  4460.819824  4464.839844  4468.000000  2371630000   \n",
       "2021-08-16  4473.259766  4437.660156  4461.649902  4472.939941  2707170000   \n",
       "2021-08-17  4462.120117  4417.830078  4462.120117  4448.080078  2884000000   \n",
       "\n",
       "              Adj Close  MA for 10 days  MA for 20 days  MA for 50 days  \\\n",
       "Date                                                                      \n",
       "2019-08-19  2923.649902             NaN             NaN             NaN   \n",
       "2019-08-20  2900.510010             NaN             NaN             NaN   \n",
       "2019-08-21  2924.429932             NaN             NaN             NaN   \n",
       "2019-08-22  2922.949951             NaN             NaN             NaN   \n",
       "2019-08-23  2847.110107             NaN             NaN             NaN   \n",
       "...                 ...             ...             ...             ...   \n",
       "2021-08-11  4442.410156     4420.451025     4391.780518     4321.455986   \n",
       "2021-08-12  4460.830078     4424.619043     4396.820532     4326.510186   \n",
       "2021-08-13  4468.000000     4431.893066     4403.862524     4332.013184   \n",
       "2021-08-16  4472.939941     4440.471045     4414.585010     4336.874180   \n",
       "2021-08-17  4448.080078     4442.964063     4420.836011     4341.305381   \n",
       "\n",
       "             Lower band  Middle band   Upper band  \n",
       "Date                                               \n",
       "2019-08-19          NaN          NaN          NaN  \n",
       "2019-08-20          NaN          NaN          NaN  \n",
       "2019-08-21          NaN          NaN          NaN  \n",
       "2019-08-22          NaN          NaN          NaN  \n",
       "2019-08-23          NaN          NaN          NaN  \n",
       "...                 ...          ...          ...  \n",
       "2021-08-11  4160.936834  4321.455986  4481.975139  \n",
       "2021-08-12  4164.648251  4326.510186  4488.372120  \n",
       "2021-08-13  4169.989892  4332.013184  4494.036475  \n",
       "2021-08-16  4172.785796  4336.874180  4500.962563  \n",
       "2021-08-17  4177.414388  4341.305381  4505.196373  \n",
       "\n",
       "[504 rows x 12 columns]"
      ]
     },
     "execution_count": 10,
     "metadata": {},
     "output_type": "execute_result"
    }
   ],
   "source": [
    "down = f\"Lower band\"\n",
    "av = f\"Middle band\"\n",
    "up = f\"Upper band\"\n",
    "spx[down], spx[av], spx[up] = boll(spx[\"Adj Close\"], length=length, num_sd=num_sd)\n",
    "spx"
   ]
  },
  {
   "cell_type": "code",
   "execution_count": null,
   "metadata": {
    "ExecuteTime": {
     "end_time": "2021-08-18T03:47:10.624726Z",
     "start_time": "2021-08-18T03:47:10.622586Z"
    }
   },
   "outputs": [],
   "source": [
    "# df = pd.DataFrame(jpm)\n",
    "# df[\"Returns\"] = (df[\"Adj Close\"]/df[\"Adj Close\"].shift(1))-1\n",
    "\n",
    "# def direction(x):\n",
    "#     if x>0:\n",
    "#         return 1.0\n",
    "#     else:\n",
    "#         return 0.0\n",
    "    \n",
    "# df[\"Direction\"] = df[\"Returns\"].apply(direction)\n",
    "# df = df.dropna()\n",
    "\n",
    "# df = df[[\"High\", \"Low\", \"Open\", \"Close\", \"Volume\", \"Adj Close\",\"Returns\", \"Direction\"]]\n",
    "# df"
   ]
  },
  {
   "cell_type": "code",
   "execution_count": null,
   "metadata": {
    "ExecuteTime": {
     "end_time": "2021-08-18T03:33:00.530624Z",
     "start_time": "2021-08-18T03:33:00.528150Z"
    }
   },
   "outputs": [],
   "source": [
    "# l = [jpm, gs, ms, bac]\n",
    "# l_s = [\"JPM\", \"GS\", \"MS\", \"BAC\"]\n",
    "# plt.figure(figsize=(15,6))\n",
    "\n",
    "# for i, j in enumerate(l, 1):\n",
    "#     plt.subplot(2,2,i)\n",
    "#     j[\"Adj Close\"].plot()\n",
    "#     plt.xlabel(\"Date\")\n",
    "#     plt.ylabel(\"Adj Close\")\n",
    "#     plt.title(f\"Closing price of {l_s[i-1]}\")\n",
    "# plt.tight_layout()"
   ]
  },
  {
   "cell_type": "code",
   "execution_count": null,
   "metadata": {
    "ExecuteTime": {
     "end_time": "2021-08-18T03:19:53.907587Z",
     "start_time": "2021-08-18T03:19:53.902992Z"
    }
   },
   "outputs": [],
   "source": [
    "# data pre-processing\n",
    "X = df.iloc[:,0:5]\n",
    "y = df.iloc[:,-1]\n",
    "\n",
    "# MinMaxScaler\n",
    "scaler = MinMaxScaler()\n",
    "df = scaler.fit_transform(df)"
   ]
  },
  {
   "cell_type": "code",
   "execution_count": null,
   "metadata": {
    "ExecuteTime": {
     "start_time": "2021-08-18T03:19:55.037Z"
    }
   },
   "outputs": [],
   "source": [
    "X_train, X_test, y_train, y_test = train_test_split(X, y, test_size=0.2, random_state=42)\n",
    "\n",
    "X_train = np.array(X_train)\n",
    "y_train = np.array(y_train)\n",
    "X_test = np.array(X_test)\n",
    "y_test = np.array(y_test)\n",
    "\n",
    "# train the model\n",
    "svm = SVC(C=1.0, kernel=\"linear\", gamma=\"scale\")\n",
    "svm.fit(X_train, y_train)\n",
    "\n",
    "# prediction\n",
    "pred = svm.predict(X_test)\n",
    "pred\n",
    "\n",
    "# classification report and confusion matrix\n",
    "\n",
    "print(\"Classification report:\")\n",
    "print(classification_report(y_test, pred))\n",
    "\n",
    "print(\"Confusion Matrix:\")\n",
    "print(confusion_matrix(y_test, pred))\n",
    "\n",
    "print(\"Accuracy score:\")\n",
    "print(accuracy_score(y_test, pred).round(2))"
   ]
  },
  {
   "cell_type": "code",
   "execution_count": null,
   "metadata": {
    "ExecuteTime": {
     "start_time": "2021-08-18T03:19:55.713Z"
    }
   },
   "outputs": [],
   "source": [
    "# gridsearchcv\n",
    "param_grid = {\"C\":[0.1,1,10,100,1000], \"gamma\":[1,0.1,0.01,0.001]}\n",
    "svm_grid = GridSearchCV(SVC(), param_grid)\n",
    "# verbose just shows how much of text output during calculation to display\n",
    "\n",
    "svm_grid.fit(X_train, y_train)\n",
    "svm_grid.best_params_"
   ]
  },
  {
   "cell_type": "code",
   "execution_count": null,
   "metadata": {
    "ExecuteTime": {
     "start_time": "2021-08-18T03:19:56.530Z"
    }
   },
   "outputs": [],
   "source": [
    "# # prediction with gridsearchcv (then classification report/confusion matrix)/accuracy score\n",
    "svm_grid_pred = svm_grid.predict(X_test)\n",
    "\n",
    "print(\"Classification report:\")\n",
    "print(classification_report(y_test, svm_grid_pred))\n",
    "\n",
    "print(\"Confusion Matrix:\")\n",
    "print(confusion_matrix(y_test, svm_grid_pred))\n",
    "\n",
    "print(\"Accuracy score:\")\n",
    "print(accuracy_score(y_test, svm_grid_pred).round(2))"
   ]
  },
  {
   "cell_type": "code",
   "execution_count": null,
   "metadata": {},
   "outputs": [],
   "source": []
  }
 ],
 "metadata": {
  "kernelspec": {
   "display_name": "Python 3",
   "language": "python",
   "name": "python3"
  },
  "language_info": {
   "codemirror_mode": {
    "name": "ipython",
    "version": 3
   },
   "file_extension": ".py",
   "mimetype": "text/x-python",
   "name": "python",
   "nbconvert_exporter": "python",
   "pygments_lexer": "ipython3",
   "version": "3.8.5"
  },
  "toc": {
   "base_numbering": 1,
   "nav_menu": {},
   "number_sections": true,
   "sideBar": true,
   "skip_h1_title": false,
   "title_cell": "Table of Contents",
   "title_sidebar": "Contents",
   "toc_cell": false,
   "toc_position": {},
   "toc_section_display": true,
   "toc_window_display": false
  }
 },
 "nbformat": 4,
 "nbformat_minor": 4
}
