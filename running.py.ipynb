{
 "cells": [
  {
   "cell_type": "code",
   "execution_count": null,
   "metadata": {},
   "outputs": [],
   "source": [
    "# from sklearn.tree import DecisionTreeRegressor\n",
    "# from sklearn.preprocessing import MinMaxScaler\n",
    "# from sklearn.model_selection import train_test_split\n",
    "# from sklearn.linear_model import LinearRegression\n",
    "\n",
    "# from sklearn.svm import SVC # svm\n",
    "# from sklearn.metrics import classification_report, confusion_matrix, mean_squared_error, accuracy_score\n",
    "# from sklearn.model_selection import GridSearchCV # c, gamma parameter optimisation"
   ]
  },
  {
   "cell_type": "code",
   "execution_count": null,
   "metadata": {},
   "outputs": [],
   "source": [
    "# # high c/high gamma overfitting\n",
    "# # low c/low gamma underfitting\n",
    "\n",
    "# # data pre-processing\n",
    "# X = df.iloc[:,0:5]\n",
    "# y = df.iloc[:,-1]\n",
    "\n",
    "# # MinMaxScaler\n",
    "# scaler = MinMaxScaler()\n",
    "# df = scaler.fit_transform(df)"
   ]
  },
  {
   "cell_type": "code",
   "execution_count": null,
   "metadata": {},
   "outputs": [],
   "source": [
    "# X_train, X_test, y_train, y_test = train_test_split(X, y, test_size=0.2, random_state=42)\n",
    "\n",
    "# X_train = np.array(X_train)\n",
    "# y_train = np.array(y_train)\n",
    "# X_test = np.array(X_test)\n",
    "# y_test = np.array(y_test)\n",
    "\n",
    "# # train the model\n",
    "# svm = SVC(C=1.0, kernel=\"linear\", gamma=\"scale\")\n",
    "# svm.fit(X_train, y_train)\n",
    "\n",
    "# # prediction\n",
    "# pred = svm.predict(X_test)\n",
    "# pred\n",
    "\n",
    "# # classification report and confusion matrix\n",
    "\n",
    "# print(\"Classification report:\")\n",
    "# print(classification_report(y_test, pred))\n",
    "\n",
    "# print(\"Confusion Matrix:\")\n",
    "# print(confusion_matrix(y_test, pred))\n",
    "\n",
    "# print(\"Accuracy score:\")\n",
    "# print(accuracy_score(y_test, pred).round(2))"
   ]
  },
  {
   "cell_type": "code",
   "execution_count": null,
   "metadata": {},
   "outputs": [],
   "source": [
    "# low gamma considers further away points to fit a hyperplane\n",
    "# high gamma considers only close points to fit a hyperplane (prone to overfitting)\n",
    "# too much emphasis on close points and not much on further away points - high gamma\n",
    "\n",
    "# gridsearchcv\n",
    "# param_grid = {\"C\":[0.1,1,10,100,1000], \"gamma\":[1,0.1,0.01,0.001], \"kernel\":[\"rbf\", \"poly\", \"sigmoid\"]}\n",
    "# svm_grid = GridSearchCV(SVC(), param_grid, refit=True, verbose=2)\n",
    "# # verbose just shows how much of text output during calculation to display\n",
    "\n",
    "# svm_grid.fit(X_train, y_train)\n",
    "# svm_grid.best_params_"
   ]
  },
  {
   "cell_type": "code",
   "execution_count": null,
   "metadata": {},
   "outputs": [],
   "source": [
    "# # prediction with gridsearchcv (then classification report/confusion matrix)/accuracy score\n",
    "# svm_grid_pred = svm_grid.predict(X_test)\n",
    "\n",
    "# print(\"Classification report:\")\n",
    "# print(classification_report(y_test, svm_grid_pred))\n",
    "\n",
    "# print(\"Confusion Matrix:\")\n",
    "# print(confusion_matrix(y_test, svm_grid_pred))\n",
    "\n",
    "# print(\"Accuracy score:\")\n",
    "# print(accuracy_score(y_test, svm_grid_pred).round(2))"
   ]
  }
 ],
 "metadata": {
  "kernelspec": {
   "display_name": "Python 3",
   "language": "python",
   "name": "python3"
  },
  "language_info": {
   "codemirror_mode": {
    "name": "ipython",
    "version": 3
   },
   "file_extension": ".py",
   "mimetype": "text/x-python",
   "name": "python",
   "nbconvert_exporter": "python",
   "pygments_lexer": "ipython3",
   "version": "3.8.5"
  },
  "toc": {
   "base_numbering": 1,
   "nav_menu": {},
   "number_sections": true,
   "sideBar": true,
   "skip_h1_title": false,
   "title_cell": "Table of Contents",
   "title_sidebar": "Contents",
   "toc_cell": false,
   "toc_position": {},
   "toc_section_display": true,
   "toc_window_display": false
  },
  "varInspector": {
   "cols": {
    "lenName": 16,
    "lenType": 16,
    "lenVar": 40
   },
   "kernels_config": {
    "python": {
     "delete_cmd_postfix": "",
     "delete_cmd_prefix": "del ",
     "library": "var_list.py",
     "varRefreshCmd": "print(var_dic_list())"
    },
    "r": {
     "delete_cmd_postfix": ") ",
     "delete_cmd_prefix": "rm(",
     "library": "var_list.r",
     "varRefreshCmd": "cat(var_dic_list()) "
    }
   },
   "types_to_exclude": [
    "module",
    "function",
    "builtin_function_or_method",
    "instance",
    "_Feature"
   ],
   "window_display": false
  }
 },
 "nbformat": 4,
 "nbformat_minor": 4
}
